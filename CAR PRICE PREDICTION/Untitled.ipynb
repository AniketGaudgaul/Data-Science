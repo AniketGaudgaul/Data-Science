{
 "cells": [
  {
   "cell_type": "code",
   "execution_count": 7,
   "id": "0f900afb",
   "metadata": {},
   "outputs": [],
   "source": [
    "from joblib import load\n",
    "import joblib as joblib\n",
    "model = joblib.load('bmw.joblib')"
   ]
  },
  {
   "cell_type": "code",
   "execution_count": 14,
   "id": "18563083",
   "metadata": {},
   "outputs": [],
   "source": [
    "pre = model.predict([[1.26650395,  0.80857026, -0.12124524, -0.88034704,  1.45093248,\n",
    "         0.21383589, -0.12969688, -1.2243097]])"
   ]
  },
  {
   "cell_type": "code",
   "execution_count": 15,
   "id": "0ca18b56",
   "metadata": {},
   "outputs": [
    {
     "data": {
      "text/plain": [
       "array([25914.16])"
      ]
     },
     "execution_count": 15,
     "metadata": {},
     "output_type": "execute_result"
    }
   ],
   "source": [
    "pre"
   ]
  },
  {
   "cell_type": "code",
   "execution_count": null,
   "id": "18876255",
   "metadata": {},
   "outputs": [],
   "source": []
  }
 ],
 "metadata": {
  "kernelspec": {
   "display_name": "Python 3",
   "language": "python",
   "name": "python3"
  },
  "language_info": {
   "codemirror_mode": {
    "name": "ipython",
    "version": 3
   },
   "file_extension": ".py",
   "mimetype": "text/x-python",
   "name": "python",
   "nbconvert_exporter": "python",
   "pygments_lexer": "ipython3",
   "version": "3.8.8"
  }
 },
 "nbformat": 4,
 "nbformat_minor": 5
}
