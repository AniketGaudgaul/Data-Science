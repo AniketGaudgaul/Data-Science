{
 "cells": [
  {
   "cell_type": "code",
   "execution_count": 2,
   "id": "c7947b40",
   "metadata": {},
   "outputs": [],
   "source": [
    "# IMPORTING\n",
    "\n",
    "import numpy as np\n",
    "import pandas as pd\n",
    "from matplotlib import pyplot as plt\n",
    "\n",
    "from sklearn.linear_model import LinearRegression"
   ]
  },
  {
   "cell_type": "code",
   "execution_count": 3,
   "id": "2cdfbdc3",
   "metadata": {},
   "outputs": [
    {
     "name": "stdout",
     "output_type": "stream",
     "text": [
      "[[150]\n",
      " [155]\n",
      " [160]\n",
      " [157]\n",
      " [162]\n",
      " [165]\n",
      " [168]\n",
      " [170]\n",
      " [140]\n",
      " [145]\n",
      " [175]\n",
      " [178]\n",
      " [180]]\n"
     ]
    }
   ],
   "source": [
    "# SIMPLE LINEAR REGRESSION\n",
    "\n",
    "# DATA THAT IS TO BE PASSED    # DETERMINATION OF WEIGHT ON BASIS OF HEIGHT \n",
    "\n",
    "# HEIGHT\n",
    "x = np.array([150,155,160,157,162,165,168,170,140,145,175,178,180]).reshape((-1,1))\n",
    "\n",
    "# .reshape(-1,1 is used on x axis because this array needs to be 2d or atleast with one column & as many rows)\n",
    "print(x)\n",
    "\n",
    "# WEIGHT\n",
    "y = np.array([50,52,54,58,62,63,66,68,45,47,70,72,73])"
   ]
  },
  {
   "cell_type": "code",
   "execution_count": 4,
   "id": "777c757a",
   "metadata": {},
   "outputs": [
    {
     "data": {
      "text/plain": [
       "(13, 1)"
      ]
     },
     "execution_count": 4,
     "metadata": {},
     "output_type": "execute_result"
    }
   ],
   "source": [
    "x.shape"
   ]
  },
  {
   "cell_type": "code",
   "execution_count": 5,
   "id": "327843e3",
   "metadata": {},
   "outputs": [
    {
     "data": {
      "image/png": "[encoded data removed]",
      "text/plain": [
       "<Figure size 432x288 with 1 Axes>"
      ]
     },
     "metadata": {
      "needs_background": "light"
     },
     "output_type": "display_data"
    }
   ],
   "source": [
    "plt.scatter(x,y)\n",
    "plt.show()"
   ]
  },
  {
   "cell_type": "code",
   "execution_count": 6,
   "id": "e59cda98",
   "metadata": {},
   "outputs": [
    {
     "data": {
      "text/plain": [
       "LinearRegression()"
      ]
     },
     "execution_count": 6,
     "metadata": {},
     "output_type": "execute_result"
    }
   ],
   "source": [
    "# CREATING AN INSTANCE\n",
    "\n",
    "model = LinearRegression()\n",
    "\n",
    "model.fit(x,y) # FIT METHOD CALCULATES THE OPTIMAL VALUES OF WEIGHT USING EXISTING INPUT & OUTPUT\n",
    "\n",
    "# SIMPLER -- model = LinearRegression().fit(x,y)"
   ]
  },
  {
   "cell_type": "code",
   "execution_count": 7,
   "id": "510afa70",
   "metadata": {},
   "outputs": [
    {
     "name": "stdout",
     "output_type": "stream",
     "text": [
      "intercept: -63.56650614413813\n",
      "slope: [0.76311857]\n"
     ]
    }
   ],
   "source": [
    "# GENERAL EQ OF LINEAR REG IS y = ax + b --- a is slope b is intercept\n",
    "\n",
    "print('intercept:', model.intercept_)\n",
    "print('slope:', model.coef_)"
   ]
  },
  {
   "cell_type": "code",
   "execution_count": 8,
   "id": "129c7fba",
   "metadata": {},
   "outputs": [
    {
     "name": "stdout",
     "output_type": "stream",
     "text": [
      "predicted response: [50.90127864 54.71687147 58.5324643  56.2431086  60.05870143 62.34805712\n",
      " 64.63741282 66.16364995 43.27009299 47.08568582 69.97924278 72.26859847\n",
      " 73.7948356 ]\n"
     ]
    }
   ],
   "source": [
    "# NOW YOU CAN PRDICT THE EXISTIG OR NEW DATA\n",
    "\n",
    "y_pred = model.predict(x)\n",
    "\n",
    "print('predicted response:' , y_pred) # THIS IS EXISTING DATA PREDICTION"
   ]
  },
  {
   "cell_type": "code",
   "execution_count": 9,
   "id": "a45d22af",
   "metadata": {},
   "outputs": [
    {
     "name": "stdout",
     "output_type": "stream",
     "text": [
      "Predicted height of person is [81.42602126]\n"
     ]
    }
   ],
   "source": [
    "# PREDICTING NON EXISTING DATA\n",
    "\n",
    "z = model.predict(np.array([[190]]))\n",
    "\n",
    "print(\"Predicted height of person is\",z)"
   ]
  },
  {
   "cell_type": "code",
   "execution_count": 10,
   "id": "3a44adc0",
   "metadata": {},
   "outputs": [
    {
     "name": "stdout",
     "output_type": "stream",
     "text": [
      "predicted responses : [[50.90127864]\n",
      " [54.71687147]\n",
      " [58.5324643 ]\n",
      " [56.2431086 ]\n",
      " [60.05870143]\n",
      " [62.34805712]\n",
      " [64.63741282]\n",
      " [66.16364995]\n",
      " [43.27009299]\n",
      " [47.08568582]\n",
      " [69.97924278]\n",
      " [72.26859847]\n",
      " [73.7948356 ]]\n"
     ]
    }
   ],
   "source": [
    "# SAME PREDICTION USING SLOPE AND INTERCEPT\n",
    "\n",
    "y_pred = model.coef_*x + model.intercept_  # y = ax + b\n",
    "\n",
    "print(\"predicted responses :\" , y_pred)"
   ]
  },
  {
   "cell_type": "code",
   "execution_count": 11,
   "id": "c0744b59",
   "metadata": {},
   "outputs": [
    {
     "data": {
      "image/png": "[encoded data removed]",
      "text/plain": [
       "<Figure size 432x288 with 1 Axes>"
      ]
     },
     "metadata": {
      "needs_background": "light"
     },
     "output_type": "display_data"
    }
   ],
   "source": [
    "# LR LINE\n",
    "\n",
    "plt.scatter(x,y)\n",
    "\n",
    "plt.plot(x, y_pred)\n",
    "\n",
    "plt.show()"
   ]
  },
  {
   "cell_type": "code",
   "execution_count": 12,
   "id": "a8700df9",
   "metadata": {},
   "outputs": [
    {
     "name": "stdout",
     "output_type": "stream",
     "text": [
      "coefficient of determination for this model is: 0.9600085865468371\n"
     ]
    }
   ],
   "source": [
    "# r-value\n",
    "\n",
    "# r-value is a co-relation coefficient of relationship between values of x-axis and y-axis\n",
    "\n",
    "# its range is +1 to -1\n",
    "\n",
    "# when one value increases with other its positive correlation and vice versa\n",
    "\n",
    "# r-value = 0 ---- no relationship bet x and y and this Linear reg cannot be used\n",
    "\n",
    "# r-value = 1 ---- means 100% positive related\n",
    "\n",
    "# r-value =-1 ---- means 100% negative related\n",
    "\n",
    "\n",
    "\n",
    "# R^2 = coefficient of determination ---shows how accurate are the predicted values \n",
    "\n",
    "# R^2 = 1 is 100% perfect prediction\n",
    "\n",
    "r_sq = model.score(x,y)\n",
    "\n",
    "print('coefficient of determination for this model is:',r_sq)"
   ]
  },
  {
   "cell_type": "code",
   "execution_count": 13,
   "id": "4457f07f",
   "metadata": {},
   "outputs": [],
   "source": [
    "# MULTIPLE LINEAR REGRESSION"
   ]
  },
  {
   "cell_type": "code",
   "execution_count": 14,
   "id": "3c69e929",
   "metadata": {},
   "outputs": [
    {
     "data": {
      "text/html": [
       "<div>\n",
       "<style scoped>\n",
       "    .dataframe tbody tr th:only-of-type {\n",
       "        vertical-align: middle;\n",
       "    }\n",
       "\n",
       "    .dataframe tbody tr th {\n",
       "        vertical-align: top;\n",
       "    }\n",
       "\n",
       "    .dataframe thead th {\n",
       "        text-align: right;\n",
       "    }\n",
       "</style>\n",
       "<table border=\"1\" class=\"dataframe\">\n",
       "  <thead>\n",
       "    <tr style=\"text-align: right;\">\n",
       "      <th></th>\n",
       "      <th>Toyota</th>\n",
       "      <th>aygo</th>\n",
       "      <th>volume</th>\n",
       "      <th>weight</th>\n",
       "      <th>co2</th>\n",
       "    </tr>\n",
       "  </thead>\n",
       "  <tbody>\n",
       "    <tr>\n",
       "      <th>0</th>\n",
       "      <td>Mitsubishi</td>\n",
       "      <td>space star</td>\n",
       "      <td>1000</td>\n",
       "      <td>790</td>\n",
       "      <td>99</td>\n",
       "    </tr>\n",
       "    <tr>\n",
       "      <th>1</th>\n",
       "      <td>skoda</td>\n",
       "      <td>citigo</td>\n",
       "      <td>1200</td>\n",
       "      <td>1160</td>\n",
       "      <td>95</td>\n",
       "    </tr>\n",
       "    <tr>\n",
       "      <th>2</th>\n",
       "      <td>fiat</td>\n",
       "      <td>500</td>\n",
       "      <td>1000</td>\n",
       "      <td>929</td>\n",
       "      <td>95</td>\n",
       "    </tr>\n",
       "    <tr>\n",
       "      <th>3</th>\n",
       "      <td>mini</td>\n",
       "      <td>cooper</td>\n",
       "      <td>900</td>\n",
       "      <td>865</td>\n",
       "      <td>90</td>\n",
       "    </tr>\n",
       "    <tr>\n",
       "      <th>4</th>\n",
       "      <td>vw</td>\n",
       "      <td>upl</td>\n",
       "      <td>1500</td>\n",
       "      <td>1140</td>\n",
       "      <td>105</td>\n",
       "    </tr>\n",
       "    <tr>\n",
       "      <th>5</th>\n",
       "      <td>skoda</td>\n",
       "      <td>fabia</td>\n",
       "      <td>1000</td>\n",
       "      <td>929</td>\n",
       "      <td>105</td>\n",
       "    </tr>\n",
       "    <tr>\n",
       "      <th>6</th>\n",
       "      <td>mercedes</td>\n",
       "      <td>a class</td>\n",
       "      <td>1400</td>\n",
       "      <td>1109</td>\n",
       "      <td>90</td>\n",
       "    </tr>\n",
       "    <tr>\n",
       "      <th>7</th>\n",
       "      <td>ford</td>\n",
       "      <td>fiesta</td>\n",
       "      <td>1500</td>\n",
       "      <td>1365</td>\n",
       "      <td>92</td>\n",
       "    </tr>\n",
       "    <tr>\n",
       "      <th>8</th>\n",
       "      <td>audi</td>\n",
       "      <td>a1</td>\n",
       "      <td>1500</td>\n",
       "      <td>1112</td>\n",
       "      <td>98</td>\n",
       "    </tr>\n",
       "    <tr>\n",
       "      <th>9</th>\n",
       "      <td>hyundai</td>\n",
       "      <td>i20</td>\n",
       "      <td>1600</td>\n",
       "      <td>1150</td>\n",
       "      <td>99</td>\n",
       "    </tr>\n",
       "    <tr>\n",
       "      <th>10</th>\n",
       "      <td>suzuki</td>\n",
       "      <td>swift</td>\n",
       "      <td>1100</td>\n",
       "      <td>980</td>\n",
       "      <td>99</td>\n",
       "    </tr>\n",
       "    <tr>\n",
       "      <th>11</th>\n",
       "      <td>ford</td>\n",
       "      <td>fiesta</td>\n",
       "      <td>1300</td>\n",
       "      <td>990</td>\n",
       "      <td>101</td>\n",
       "    </tr>\n",
       "    <tr>\n",
       "      <th>12</th>\n",
       "      <td>NaN</td>\n",
       "      <td>NaN</td>\n",
       "      <td>1000</td>\n",
       "      <td>1112</td>\n",
       "      <td>99</td>\n",
       "    </tr>\n",
       "    <tr>\n",
       "      <th>13</th>\n",
       "      <td>NaN</td>\n",
       "      <td>NaN</td>\n",
       "      <td>1600</td>\n",
       "      <td>1252</td>\n",
       "      <td>94</td>\n",
       "    </tr>\n",
       "    <tr>\n",
       "      <th>14</th>\n",
       "      <td>NaN</td>\n",
       "      <td>NaN</td>\n",
       "      <td>1600</td>\n",
       "      <td>1326</td>\n",
       "      <td>97</td>\n",
       "    </tr>\n",
       "    <tr>\n",
       "      <th>15</th>\n",
       "      <td>NaN</td>\n",
       "      <td>NaN</td>\n",
       "      <td>1600</td>\n",
       "      <td>1330</td>\n",
       "      <td>97</td>\n",
       "    </tr>\n",
       "    <tr>\n",
       "      <th>16</th>\n",
       "      <td>NaN</td>\n",
       "      <td>NaN</td>\n",
       "      <td>1600</td>\n",
       "      <td>1365</td>\n",
       "      <td>99</td>\n",
       "    </tr>\n",
       "    <tr>\n",
       "      <th>17</th>\n",
       "      <td>NaN</td>\n",
       "      <td>NaN</td>\n",
       "      <td>2200</td>\n",
       "      <td>1280</td>\n",
       "      <td>104</td>\n",
       "    </tr>\n",
       "    <tr>\n",
       "      <th>18</th>\n",
       "      <td>NaN</td>\n",
       "      <td>NaN</td>\n",
       "      <td>1600</td>\n",
       "      <td>1119</td>\n",
       "      <td>104</td>\n",
       "    </tr>\n",
       "    <tr>\n",
       "      <th>19</th>\n",
       "      <td>NaN</td>\n",
       "      <td>NaN</td>\n",
       "      <td>2000</td>\n",
       "      <td>1328</td>\n",
       "      <td>105</td>\n",
       "    </tr>\n",
       "    <tr>\n",
       "      <th>20</th>\n",
       "      <td>NaN</td>\n",
       "      <td>NaN</td>\n",
       "      <td>1600</td>\n",
       "      <td>1584</td>\n",
       "      <td>94</td>\n",
       "    </tr>\n",
       "    <tr>\n",
       "      <th>21</th>\n",
       "      <td>NaN</td>\n",
       "      <td>NaN</td>\n",
       "      <td>2000</td>\n",
       "      <td>1428</td>\n",
       "      <td>99</td>\n",
       "    </tr>\n",
       "    <tr>\n",
       "      <th>22</th>\n",
       "      <td>NaN</td>\n",
       "      <td>NaN</td>\n",
       "      <td>2100</td>\n",
       "      <td>1365</td>\n",
       "      <td>99</td>\n",
       "    </tr>\n",
       "    <tr>\n",
       "      <th>23</th>\n",
       "      <td>NaN</td>\n",
       "      <td>NaN</td>\n",
       "      <td>1600</td>\n",
       "      <td>1415</td>\n",
       "      <td>99</td>\n",
       "    </tr>\n",
       "    <tr>\n",
       "      <th>24</th>\n",
       "      <td>NaN</td>\n",
       "      <td>NaN</td>\n",
       "      <td>2000</td>\n",
       "      <td>1415</td>\n",
       "      <td>99</td>\n",
       "    </tr>\n",
       "    <tr>\n",
       "      <th>25</th>\n",
       "      <td>NaN</td>\n",
       "      <td>NaN</td>\n",
       "      <td>1500</td>\n",
       "      <td>1465</td>\n",
       "      <td>102</td>\n",
       "    </tr>\n",
       "    <tr>\n",
       "      <th>26</th>\n",
       "      <td>NaN</td>\n",
       "      <td>NaN</td>\n",
       "      <td>2000</td>\n",
       "      <td>1490</td>\n",
       "      <td>104</td>\n",
       "    </tr>\n",
       "    <tr>\n",
       "      <th>27</th>\n",
       "      <td>NaN</td>\n",
       "      <td>NaN</td>\n",
       "      <td>2000</td>\n",
       "      <td>1725</td>\n",
       "      <td>114</td>\n",
       "    </tr>\n",
       "    <tr>\n",
       "      <th>28</th>\n",
       "      <td>NaN</td>\n",
       "      <td>NaN</td>\n",
       "      <td>1600</td>\n",
       "      <td>1523</td>\n",
       "      <td>109</td>\n",
       "    </tr>\n",
       "    <tr>\n",
       "      <th>29</th>\n",
       "      <td>NaN</td>\n",
       "      <td>NaN</td>\n",
       "      <td>2000</td>\n",
       "      <td>1705</td>\n",
       "      <td>114</td>\n",
       "    </tr>\n",
       "    <tr>\n",
       "      <th>30</th>\n",
       "      <td>NaN</td>\n",
       "      <td>NaN</td>\n",
       "      <td>2100</td>\n",
       "      <td>1605</td>\n",
       "      <td>115</td>\n",
       "    </tr>\n",
       "    <tr>\n",
       "      <th>31</th>\n",
       "      <td>NaN</td>\n",
       "      <td>NaN</td>\n",
       "      <td>2000</td>\n",
       "      <td>1746</td>\n",
       "      <td>117</td>\n",
       "    </tr>\n",
       "    <tr>\n",
       "      <th>32</th>\n",
       "      <td>NaN</td>\n",
       "      <td>NaN</td>\n",
       "      <td>1600</td>\n",
       "      <td>1235</td>\n",
       "      <td>104</td>\n",
       "    </tr>\n",
       "    <tr>\n",
       "      <th>33</th>\n",
       "      <td>NaN</td>\n",
       "      <td>NaN</td>\n",
       "      <td>1600</td>\n",
       "      <td>1390</td>\n",
       "      <td>108</td>\n",
       "    </tr>\n",
       "    <tr>\n",
       "      <th>34</th>\n",
       "      <td>NaN</td>\n",
       "      <td>NaN</td>\n",
       "      <td>1600</td>\n",
       "      <td>1405</td>\n",
       "      <td>109</td>\n",
       "    </tr>\n",
       "    <tr>\n",
       "      <th>35</th>\n",
       "      <td>NaN</td>\n",
       "      <td>NaN</td>\n",
       "      <td>2500</td>\n",
       "      <td>1395</td>\n",
       "      <td>120</td>\n",
       "    </tr>\n",
       "  </tbody>\n",
       "</table>\n",
       "</div>"
      ],
      "text/plain": [
       "        Toyota        aygo  volume  weight  co2\n",
       "0   Mitsubishi  space star    1000     790   99\n",
       "1        skoda      citigo    1200    1160   95\n",
       "2         fiat         500    1000     929   95\n",
       "3         mini      cooper     900     865   90\n",
       "4           vw         upl    1500    1140  105\n",
       "5        skoda       fabia    1000     929  105\n",
       "6     mercedes     a class    1400    1109   90\n",
       "7         ford      fiesta    1500    1365   92\n",
       "8         audi          a1    1500    1112   98\n",
       "9      hyundai         i20    1600    1150   99\n",
       "10      suzuki       swift    1100     980   99\n",
       "11        ford      fiesta    1300     990  101\n",
       "12         NaN         NaN    1000    1112   99\n",
       "13         NaN         NaN    1600    1252   94\n",
       "14         NaN         NaN    1600    1326   97\n",
       "15         NaN         NaN    1600    1330   97\n",
       "16         NaN         NaN    1600    1365   99\n",
       "17         NaN         NaN    2200    1280  104\n",
       "18         NaN         NaN    1600    1119  104\n",
       "19         NaN         NaN    2000    1328  105\n",
       "20         NaN         NaN    1600    1584   94\n",
       "21         NaN         NaN    2000    1428   99\n",
       "22         NaN         NaN    2100    1365   99\n",
       "23         NaN         NaN    1600    1415   99\n",
       "24         NaN         NaN    2000    1415   99\n",
       "25         NaN         NaN    1500    1465  102\n",
       "26         NaN         NaN    2000    1490  104\n",
       "27         NaN         NaN    2000    1725  114\n",
       "28         NaN         NaN    1600    1523  109\n",
       "29         NaN         NaN    2000    1705  114\n",
       "30         NaN         NaN    2100    1605  115\n",
       "31         NaN         NaN    2000    1746  117\n",
       "32         NaN         NaN    1600    1235  104\n",
       "33         NaN         NaN    1600    1390  108\n",
       "34         NaN         NaN    1600    1405  109\n",
       "35         NaN         NaN    2500    1395  120"
      ]
     },
     "execution_count": 14,
     "metadata": {},
     "output_type": "execute_result"
    }
   ],
   "source": [
    "# PREDICTING CO2 EMISSION OF A CAR BASED ON ITS WEIGHT AND VOLUME\n",
    "\n",
    "df = pd.read_csv(\"C:/Users/LENOVO/Desktop/example2.csv\")\n",
    "\n",
    "df"
   ]
  },
  {
   "cell_type": "code",
   "execution_count": 15,
   "id": "2c17064f",
   "metadata": {},
   "outputs": [
    {
     "name": "stdout",
     "output_type": "stream",
     "text": [
      "    weight  volume\n",
      "0      790    1000\n",
      "1     1160    1200\n",
      "2      929    1000\n",
      "3      865     900\n",
      "4     1140    1500\n",
      "5      929    1000\n",
      "6     1109    1400\n",
      "7     1365    1500\n",
      "8     1112    1500\n",
      "9     1150    1600\n",
      "10     980    1100\n",
      "11     990    1300\n",
      "12    1112    1000\n",
      "13    1252    1600\n",
      "14    1326    1600\n",
      "15    1330    1600\n",
      "16    1365    1600\n",
      "17    1280    2200\n",
      "18    1119    1600\n",
      "19    1328    2000\n",
      "20    1584    1600\n",
      "21    1428    2000\n",
      "22    1365    2100\n",
      "23    1415    1600\n",
      "24    1415    2000\n",
      "25    1465    1500\n",
      "26    1490    2000\n",
      "27    1725    2000\n",
      "28    1523    1600\n",
      "29    1705    2000\n",
      "30    1605    2100\n",
      "31    1746    2000\n",
      "32    1235    1600\n",
      "33    1390    1600\n",
      "34    1405    1600\n",
      "35    1395    2500\n",
      "0      99\n",
      "1      95\n",
      "2      95\n",
      "3      90\n",
      "4     105\n",
      "5     105\n",
      "6      90\n",
      "7      92\n",
      "8      98\n",
      "9      99\n",
      "10     99\n",
      "11    101\n",
      "12     99\n",
      "13     94\n",
      "14     97\n",
      "15     97\n",
      "16     99\n",
      "17    104\n",
      "18    104\n",
      "19    105\n",
      "20     94\n",
      "21     99\n",
      "22     99\n",
      "23     99\n",
      "24     99\n",
      "25    102\n",
      "26    104\n",
      "27    114\n",
      "28    109\n",
      "29    114\n",
      "30    115\n",
      "31    117\n",
      "32    104\n",
      "33    108\n",
      "34    109\n",
      "35    120\n",
      "Name: co2, dtype: int64\n"
     ]
    }
   ],
   "source": [
    "# MAKE A LIST OF ALL INDEPENDENT VALUES AS X AND DEPENDENT AS Y\n",
    "\n",
    "x = df[['weight','volume']]\n",
    "y = df['co2']\n",
    "\n",
    "print(x)\n",
    "print(y)"
   ]
  },
  {
   "cell_type": "code",
   "execution_count": 16,
   "id": "09773d61",
   "metadata": {},
   "outputs": [
    {
     "data": {
      "text/plain": [
       "LinearRegression()"
      ]
     },
     "execution_count": 16,
     "metadata": {},
     "output_type": "execute_result"
    }
   ],
   "source": [
    "# INSERTING DATA INTO THE MODEL\n",
    "\n",
    "regr = LinearRegression()\n",
    "regr.fit(x,y)"
   ]
  },
  {
   "cell_type": "code",
   "execution_count": 17,
   "id": "72a25908",
   "metadata": {},
   "outputs": [
    {
     "name": "stdout",
     "output_type": "stream",
     "text": [
      "[122.5649376]\n"
     ]
    }
   ],
   "source": [
    "# PREDICTING \n",
    "\n",
    "pred = regr.predict([[3300,2300]])\n",
    "\n",
    "print(pred)"
   ]
  },
  {
   "cell_type": "code",
   "execution_count": 20,
   "id": "5a47c1f2",
   "metadata": {},
   "outputs": [
    {
     "name": "stdout",
     "output_type": "stream",
     "text": [
      "[ 93.46522516  97.82012716  94.51480683  93.25102045 100.01068547\n",
      "  94.51480683  98.99608035 101.70964861  99.79925895 100.8667207\n",
      "  95.6804309   97.31699187  95.89663018 101.63691732 102.19568742\n",
      " 102.22589121 102.49017436 106.53149836 100.63264133 105.33289232\n",
      " 104.14383181 106.08798705 106.39280312 102.86772172 105.98982473\n",
      " 102.46474333 106.55614578 108.33061839 103.68322403 108.17959944\n",
      " 108.20503047 108.48918828 101.50855121 102.67894804 102.79221225\n",
      " 109.74143455]\n"
     ]
    }
   ],
   "source": [
    "predictedco2 = regr.predict(x)\n",
    "\n",
    "print(predictedco2)"
   ]
  },
  {
   "cell_type": "code",
   "execution_count": 21,
   "id": "e8693ec1",
   "metadata": {},
   "outputs": [
    {
     "data": {
      "image/png": "[encoded data removed]",
      "text/plain": [
       "<Figure size 432x288 with 1 Axes>"
      ]
     },
     "metadata": {
      "needs_background": "light"
     },
     "output_type": "display_data"
    }
   ],
   "source": [
    "# PLOTTING A BAR GRAPH OF ACTUAL AND PREDICTED VALUES\n",
    "\n",
    "plt.bar([1,3,5,7,9,11,13,15,17,19], predictedco2[0:10] , label='predicted values')\n",
    "\n",
    "plt.bar([2,4,6,8,10,12,14,16,18,20], y[0:10], label='actual values' , color='r')\n",
    "\n",
    "plt.legend()\n",
    "\n",
    "plt.xlabel('bar number')\n",
    "plt.ylabel('bar height')\n",
    "plt.title('Predicted values vs Actual values')\n",
    "\n",
    "plt.show()"
   ]
  },
  {
   "cell_type": "code",
   "execution_count": 58,
   "id": "fd28c290",
   "metadata": {},
   "outputs": [
    {
     "name": "stdout",
     "output_type": "stream",
     "text": [
      "[0.00755095 0.00780526]\n"
     ]
    }
   ],
   "source": [
    "# COEFFICIENT OF WEIGHT AGAINST CO2 AND VOLUME AGAINST C02\n",
    "\n",
    "print(regr.coef_)\n",
    "\n",
    "# THESE VALUES SHOW WHAT IS THE RELATION OF CO2 WITH WEIGHT AND VOLUME\n",
    "\n",
    "# POSITIVE MEANS DIRECTLY PROPORTIONAL"
   ]
  },
  {
   "cell_type": "code",
   "execution_count": 60,
   "id": "50c695e9",
   "metadata": {},
   "outputs": [
    {
     "name": "stdout",
     "output_type": "stream",
     "text": [
      "0.3765564043619988\n"
     ]
    }
   ],
   "source": [
    "r_sq = regr.score(x,y)\n",
    "print(r_sq)"
   ]
  },
  {
   "cell_type": "code",
   "execution_count": 61,
   "id": "0dc304a1",
   "metadata": {},
   "outputs": [],
   "source": [
    "# TRAIN_TEST_SPLIT METHOD FOR CHECKING ACCURACY OF MODEL\n",
    "\n",
    "from sklearn.model_selection import train_test_split\n",
    "\n",
    "X_train , X_test , Y_train , Y_test = train_test_split(x,y,test_size=0.2,random_state=0)\n",
    "\n",
    "#HERE DATASET IS BROKEN INTO 2 PARTS. 80% OF DATA IS USED FOR TRAINING AND 20% FOR TESTING"
   ]
  },
  {
   "cell_type": "code",
   "execution_count": 67,
   "id": "19dcdd66",
   "metadata": {},
   "outputs": [
    {
     "data": {
      "text/plain": [
       "31    117\n",
       "20     94\n",
       "16     99\n",
       "30    115\n",
       "22     99\n",
       "15     97\n",
       "10     99\n",
       "2      95\n",
       "Name: co2, dtype: int64"
      ]
     },
     "execution_count": 67,
     "metadata": {},
     "output_type": "execute_result"
    }
   ],
   "source": [
    "Y_test #X_test #X_train #Y_test #Y_train"
   ]
  },
  {
   "cell_type": "code",
   "execution_count": 65,
   "id": "74891e9b",
   "metadata": {},
   "outputs": [
    {
     "data": {
      "text/plain": [
       "LinearRegression()"
      ]
     },
     "execution_count": 65,
     "metadata": {},
     "output_type": "execute_result"
    }
   ],
   "source": [
    "regr.fit(X_train,Y_train)"
   ]
  },
  {
   "cell_type": "code",
   "execution_count": 66,
   "id": "cb50914a",
   "metadata": {},
   "outputs": [
    {
     "name": "stdout",
     "output_type": "stream",
     "text": [
      "[108.54900223 104.31804036 102.72161109 108.2836746  106.53416307\n",
      " 102.46647399  96.10255102  94.96826943]\n"
     ]
    }
   ],
   "source": [
    "predict_y = regr.predict(X_test)\n",
    "\n",
    "print(predict_y)\n",
    "\n",
    "#NOW COMPARE THESE OUTPUT WITH Y_TEST PRINTED ABOVE"
   ]
  },
  {
   "cell_type": "code",
   "execution_count": 68,
   "id": "fb944763",
   "metadata": {},
   "outputs": [
    {
     "name": "stdout",
     "output_type": "stream",
     "text": [
      "6.440913217289962\n"
     ]
    }
   ],
   "source": [
    "# THUS YOU CAN FIND MEAN ERROR , ROOT MEAN SQUARE ERROR , ETC\n",
    "\n",
    "from sklearn import metrics\n",
    "\n",
    "print(np.sqrt(metrics.mean_squared_error(Y_test , predict_y)))"
   ]
  },
  {
   "cell_type": "code",
   "execution_count": null,
   "id": "bcf72e01",
   "metadata": {},
   "outputs": [],
   "source": []
  }
 ],
 "metadata": {
  "kernelspec": {
   "display_name": "Python 3",
   "language": "python",
   "name": "python3"
  },
  "language_info": {
   "codemirror_mode": {
    "name": "ipython",
    "version": 3
   },
   "file_extension": ".py",
   "mimetype": "text/x-python",
   "name": "python",
   "nbconvert_exporter": "python",
   "pygments_lexer": "ipython3",
   "version": "3.8.8"
  }
 },
 "nbformat": 4,
 "nbformat_minor": 5
}
