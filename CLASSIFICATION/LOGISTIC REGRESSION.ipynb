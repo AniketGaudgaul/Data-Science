{
 "cells": [
  {
   "cell_type": "code",
   "execution_count": 12,
   "id": "ca929787",
   "metadata": {},
   "outputs": [],
   "source": [
    "# WHETHER A CANDIDATE WILL GET ADMISSION IN UNIVERSITY BASED ON HIS GPA ,GMAT SCORES AND HIS WORK XP\n",
    "\n",
    "# BINARY CLASSIFICATION \n",
    "\n",
    "# IMPORTING\n",
    "\n",
    "import pandas as pd\n",
    "import matplotlib.pyplot as plt\n",
    "import seaborn as sn\n",
    "from sklearn.model_selection import train_test_split\n",
    "from sklearn.linear_model import LogisticRegression"
   ]
  },
  {
   "cell_type": "code",
   "execution_count": 4,
   "id": "8de63621",
   "metadata": {},
   "outputs": [
    {
     "data": {
      "text/html": [
       "<div>\n",
       "<style scoped>\n",
       "    .dataframe tbody tr th:only-of-type {\n",
       "        vertical-align: middle;\n",
       "    }\n",
       "\n",
       "    .dataframe tbody tr th {\n",
       "        vertical-align: top;\n",
       "    }\n",
       "\n",
       "    .dataframe thead th {\n",
       "        text-align: right;\n",
       "    }\n",
       "</style>\n",
       "<table border=\"1\" class=\"dataframe\">\n",
       "  <thead>\n",
       "    <tr style=\"text-align: right;\">\n",
       "      <th></th>\n",
       "      <th>gmat</th>\n",
       "      <th>gpa</th>\n",
       "      <th>xp</th>\n",
       "      <th>admitted</th>\n",
       "    </tr>\n",
       "  </thead>\n",
       "  <tbody>\n",
       "    <tr>\n",
       "      <th>0</th>\n",
       "      <td>780</td>\n",
       "      <td>4.0</td>\n",
       "      <td>3</td>\n",
       "      <td>1</td>\n",
       "    </tr>\n",
       "    <tr>\n",
       "      <th>1</th>\n",
       "      <td>750</td>\n",
       "      <td>3.9</td>\n",
       "      <td>4</td>\n",
       "      <td>1</td>\n",
       "    </tr>\n",
       "    <tr>\n",
       "      <th>2</th>\n",
       "      <td>690</td>\n",
       "      <td>3.3</td>\n",
       "      <td>3</td>\n",
       "      <td>0</td>\n",
       "    </tr>\n",
       "    <tr>\n",
       "      <th>3</th>\n",
       "      <td>710</td>\n",
       "      <td>3.7</td>\n",
       "      <td>5</td>\n",
       "      <td>1</td>\n",
       "    </tr>\n",
       "    <tr>\n",
       "      <th>4</th>\n",
       "      <td>680</td>\n",
       "      <td>3.9</td>\n",
       "      <td>4</td>\n",
       "      <td>0</td>\n",
       "    </tr>\n",
       "    <tr>\n",
       "      <th>5</th>\n",
       "      <td>730</td>\n",
       "      <td>3.7</td>\n",
       "      <td>6</td>\n",
       "      <td>1</td>\n",
       "    </tr>\n",
       "    <tr>\n",
       "      <th>6</th>\n",
       "      <td>690</td>\n",
       "      <td>2.3</td>\n",
       "      <td>1</td>\n",
       "      <td>0</td>\n",
       "    </tr>\n",
       "    <tr>\n",
       "      <th>7</th>\n",
       "      <td>720</td>\n",
       "      <td>3.3</td>\n",
       "      <td>4</td>\n",
       "      <td>1</td>\n",
       "    </tr>\n",
       "    <tr>\n",
       "      <th>8</th>\n",
       "      <td>740</td>\n",
       "      <td>3.3</td>\n",
       "      <td>5</td>\n",
       "      <td>1</td>\n",
       "    </tr>\n",
       "    <tr>\n",
       "      <th>9</th>\n",
       "      <td>690</td>\n",
       "      <td>1.7</td>\n",
       "      <td>1</td>\n",
       "      <td>0</td>\n",
       "    </tr>\n",
       "  </tbody>\n",
       "</table>\n",
       "</div>"
      ],
      "text/plain": [
       "   gmat  gpa  xp  admitted\n",
       "0   780  4.0   3         1\n",
       "1   750  3.9   4         1\n",
       "2   690  3.3   3         0\n",
       "3   710  3.7   5         1\n",
       "4   680  3.9   4         0\n",
       "5   730  3.7   6         1\n",
       "6   690  2.3   1         0\n",
       "7   720  3.3   4         1\n",
       "8   740  3.3   5         1\n",
       "9   690  1.7   1         0"
      ]
     },
     "execution_count": 4,
     "metadata": {},
     "output_type": "execute_result"
    }
   ],
   "source": [
    "df = pd.read_csv('C:/Users/LENOVO/Desktop/example3.csv')\n",
    "df.head(10)"
   ]
  },
  {
   "cell_type": "code",
   "execution_count": 5,
   "id": "784e0133",
   "metadata": {},
   "outputs": [],
   "source": [
    "X = df[['gmat','gpa','xp']] # INDEPENDENT VARIABLS\n",
    "Y = df['admitted'] # DEPENDENT VARIABLE"
   ]
  },
  {
   "cell_type": "code",
   "execution_count": 7,
   "id": "4f853179",
   "metadata": {},
   "outputs": [],
   "source": [
    "# SPLITTING TO DO TRAIN TEST \n",
    "\n",
    "X_train , X_test , Y_train , Y_test = train_test_split(X,Y,test_size=0.25,random_state=0)\n"
   ]
  },
  {
   "cell_type": "code",
   "execution_count": 8,
   "id": "d3ede060",
   "metadata": {},
   "outputs": [
    {
     "name": "stdout",
     "output_type": "stream",
     "text": [
      "[0 0 1 1 0 0 1 1 0 1]\n"
     ]
    }
   ],
   "source": [
    "# CREATING A MODEL\n",
    "\n",
    "lr = LogisticRegression()\n",
    "\n",
    "lr.fit(X_train,Y_train)\n",
    "\n",
    "# TESTING MODEL ON TESTING DATA\n",
    "\n",
    "y_pred = lr.predict(X_test)\n",
    "\n",
    "print(y_pred)"
   ]
  },
  {
   "cell_type": "code",
   "execution_count": 9,
   "id": "5d3b14e0",
   "metadata": {},
   "outputs": [
    {
     "name": "stdout",
     "output_type": "stream",
     "text": [
      "[0 0 1 1 0 0 1 1 0 1]\n",
      "22    0\n",
      "20    1\n",
      "25    1\n",
      "4     0\n",
      "10    0\n",
      "15    0\n",
      "28    1\n",
      "11    1\n",
      "18    0\n",
      "29    1\n",
      "Name: admitted, dtype: int64\n"
     ]
    }
   ],
   "source": [
    "# COMPARE WITH Y_TEST\n",
    "\n",
    "print(y_pred)\n",
    "\n",
    "print(Y_test)"
   ]
  },
  {
   "cell_type": "code",
   "execution_count": 11,
   "id": "d193442c",
   "metadata": {},
   "outputs": [
    {
     "data": {
      "text/plain": [
       "array([[4, 1],\n",
       "       [1, 4]], dtype=int64)"
      ]
     },
     "execution_count": 11,
     "metadata": {},
     "output_type": "execute_result"
    }
   ],
   "source": [
    "# EVALUATING BY CONFUSION MATRIX\n",
    "\n",
    "from sklearn import metrics\n",
    "\n",
    "cfmatrix = metrics.confusion_matrix(Y_test , y_pred)\n",
    "\n",
    "cfmatrix\n",
    "\n",
    "# THERE ARE 4 OUTPUTS IN CASE OF BINARY:\n",
    "\n",
    "# TOP LEFT -- TRUE NEGATIVE -- PREDICTED = 0 : ACTUAL = 0\n",
    "\n",
    "# LOWER LEFT -- FALSE NEGATIVE -- PREDICTED = 0 : ACTUAL = 1\n",
    "\n",
    "# TOP RIGHT -- FALSE POSITIVE -- PREDICTED = 1 : ACTUAL = 0\n",
    "\n",
    "# LOWER RIGHT -- TRUE POSITIVE -- PREDICTED = 1 : ACTUAL = 1"
   ]
  },
  {
   "cell_type": "code",
   "execution_count": 14,
   "id": "2e8f426c",
   "metadata": {},
   "outputs": [
    {
     "data": {
      "text/plain": [
       "Text(33.0, 0.5, 'Predicted label')"
      ]
     },
     "execution_count": 14,
     "metadata": {},
     "output_type": "execute_result"
    },
    {
     "data": {
      "image/png": "[encoded data removed]",
      "text/plain": [
       "<Figure size 432x288 with 2 Axes>"
      ]
     },
     "metadata": {
      "needs_background": "light"
     },
     "output_type": "display_data"
    }
   ],
   "source": [
    "sn.heatmap(pd.DataFrame(cfmatrix))\n",
    "\n",
    "plt.title('Confusion Matrix')\n",
    "plt.xlabel('Actual label')\n",
    "plt.ylabel('Predicted label')"
   ]
  },
  {
   "cell_type": "code",
   "execution_count": 15,
   "id": "32c4e424",
   "metadata": {},
   "outputs": [
    {
     "name": "stdout",
     "output_type": "stream",
     "text": [
      "Accuracy 0.8\n"
     ]
    }
   ],
   "source": [
    "# ACCURACY\n",
    "\n",
    "print('Accuracy' , metrics.accuracy_score(Y_test,y_pred))"
   ]
  },
  {
   "cell_type": "code",
   "execution_count": 25,
   "id": "bf6cd436",
   "metadata": {},
   "outputs": [
    {
     "name": "stdout",
     "output_type": "stream",
     "text": [
      "[1]\n",
      "Student will get admission into the university!\n"
     ]
    }
   ],
   "source": [
    "# PREDICT ANY VALUE\n",
    "\n",
    "adm = lr.predict([[700,3.9,4]])\n",
    "\n",
    "print(adm)\n",
    "\n",
    "if adm == 1:\n",
    "    print('Student will get admission into the university!')\n",
    "else:\n",
    "    print('Student will not get admission into the university.')\n",
    "# VIOLA!"
   ]
  },
  {
   "cell_type": "code",
   "execution_count": null,
   "id": "e27e74b3",
   "metadata": {},
   "outputs": [],
   "source": []
  }
 ],
 "metadata": {
  "kernelspec": {
   "display_name": "Python 3",
   "language": "python",
   "name": "python3"
  },
  "language_info": {
   "codemirror_mode": {
    "name": "ipython",
    "version": 3
   },
   "file_extension": ".py",
   "mimetype": "text/x-python",
   "name": "python",
   "nbconvert_exporter": "python",
   "pygments_lexer": "ipython3",
   "version": "3.8.8"
  }
 },
 "nbformat": 4,
 "nbformat_minor": 5
}
