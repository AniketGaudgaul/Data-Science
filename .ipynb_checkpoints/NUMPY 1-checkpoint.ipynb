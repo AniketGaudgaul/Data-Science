{
 "cells": [
  {
   "cell_type": "code",
   "execution_count": 1,
   "id": "5dd20821",
   "metadata": {},
   "outputs": [
    {
     "name": "stdout",
     "output_type": "stream",
     "text": [
      "[1 2 3 4]\n"
     ]
    }
   ],
   "source": [
    "#CREATING AN 1D ARRAY\n",
    "\n",
    "import numpy\n",
    "\n",
    "arr = numpy.array([1,2,3,4])   #list is passed , you can also pass tuple\n",
    "\n",
    "print(arr)\n"
   ]
  },
  {
   "cell_type": "code",
   "execution_count": 2,
   "id": "9aef75fd",
   "metadata": {},
   "outputs": [
    {
     "name": "stdout",
     "output_type": "stream",
     "text": [
      "[1 2 3 4]\n"
     ]
    }
   ],
   "source": [
    "#CREATING AN 1D ARRAY WITH ALIAS\n",
    "\n",
    "import numpy as np\n",
    "\n",
    "arr = np.array([1,2,3,4])\n",
    "\n",
    "print(arr)"
   ]
  },
  {
   "cell_type": "code",
   "execution_count": 1,
   "id": "2561d8e8",
   "metadata": {},
   "outputs": [
    {
     "name": "stdout",
     "output_type": "stream",
     "text": [
      "[[1 2 3 4]\n",
      " [5 6 7 8]]\n",
      "6\n"
     ]
    }
   ],
   "source": [
    "#CREATING AN 2D ARRAY WITH ALIAS\n",
    "\n",
    "import numpy as np\n",
    "\n",
    "arr2 = np.array([[1,2,3,4],[5,6,7,8]])\n",
    "\n",
    "print(arr2)\n",
    "\n",
    "print(arr2[1,1]) #ACCESSING ELEMENTS [2D MATRIX, ROW , COLUMN]\n"
   ]
  },
  {
   "cell_type": "code",
   "execution_count": 6,
   "id": "1bd2be61",
   "metadata": {},
   "outputs": [
    {
     "name": "stdout",
     "output_type": "stream",
     "text": [
      "[[[1 2 3 4]\n",
      "  [5 6 7 8]]\n",
      "\n",
      " [[1 2 3 4]\n",
      "  [5 6 7 8]]]\n"
     ]
    }
   ],
   "source": [
    "#CREATING AN 3D ARRAY WITH ALIAS (USE 2 2D ARRAYS WITH 2 1D ARRAYS EACH)\n",
    "\n",
    "import numpy as np\n",
    "\n",
    "arr3 = np.array([[[1,2,3,4],[5,6,7,8]],[[1,2,3,4],[5,6,7,8]]])\n",
    "\n",
    "print(arr3)"
   ]
  },
  {
   "cell_type": "code",
   "execution_count": 7,
   "id": "7dd7c457",
   "metadata": {},
   "outputs": [
    {
     "name": "stdout",
     "output_type": "stream",
     "text": [
      "3\n"
     ]
    }
   ],
   "source": [
    "#CHECKING NO OF DIMENSIONS\n",
    "\n",
    "import numpy as np\n",
    "\n",
    "arr3 = np.array([[[1,2,3,4],[5,6,7,8]],[[1,2,3,4],[5,6,7,8]]])\n",
    "\n",
    "print(arr3.ndim)"
   ]
  },
  {
   "cell_type": "code",
   "execution_count": 10,
   "id": "cb366fd8",
   "metadata": {},
   "outputs": [
    {
     "name": "stdout",
     "output_type": "stream",
     "text": [
      "(2, 2, 4)\n",
      "16\n"
     ]
    }
   ],
   "source": [
    "#CHECKING SHAPE\n",
    "\n",
    "print(arr3.shape)   #(2,2,4) means 2 2d arrays with 2 rows and 4 columns\n",
    "\n",
    "print(arr3.size)    #Displays the total number of elements"
   ]
  },
  {
   "cell_type": "code",
   "execution_count": 12,
   "id": "b6d31ece",
   "metadata": {},
   "outputs": [
    {
     "name": "stdout",
     "output_type": "stream",
     "text": [
      "Array elements as float: \n",
      " [[1. 2. 3. 4.]\n",
      " [5. 6. 7. 8.]]\n"
     ]
    }
   ],
   "source": [
    "#CREATING ARRAY OF FLOAT TYPE\n",
    "\n",
    "arr2 = np.array([[1,2,3,4],[5,6,7,8]] , dtype = 'float')\n",
    "\n",
    "print(\"Array elements as float: \\n\" , arr2)"
   ]
  },
  {
   "cell_type": "code",
   "execution_count": 13,
   "id": "4b335061",
   "metadata": {},
   "outputs": [
    {
     "name": "stdout",
     "output_type": "stream",
     "text": [
      "[[0. 0. 0. 0.]\n",
      " [0. 0. 0. 0.]\n",
      " [0. 0. 0. 0.]]\n"
     ]
    }
   ],
   "source": [
    "#ARRAY WITH ALL ZEROS\n",
    "\n",
    "arr0 = np.zeros((3,4))   #PASSING THE SHAPE OF THE ARRAY\n",
    "\n",
    "print(arr0)"
   ]
  },
  {
   "cell_type": "code",
   "execution_count": 14,
   "id": "4471264d",
   "metadata": {},
   "outputs": [
    {
     "name": "stdout",
     "output_type": "stream",
     "text": [
      "[[7.+0.j 7.+0.j 7.+0.j]\n",
      " [7.+0.j 7.+0.j 7.+0.j]\n",
      " [7.+0.j 7.+0.j 7.+0.j]]\n"
     ]
    }
   ],
   "source": [
    "#numpy.full is used to create an array with same elements\n",
    "\n",
    "arrf = np.full((3,3) , 7 , dtype = 'complex')  #np.full((shape) , constant element , data type) \n",
    "\n",
    "print(arrf)"
   ]
  },
  {
   "cell_type": "code",
   "execution_count": null,
   "id": "96a20878",
   "metadata": {},
   "outputs": [],
   "source": []
  }
 ],
 "metadata": {
  "kernelspec": {
   "display_name": "Python 3",
   "language": "python",
   "name": "python3"
  },
  "language_info": {
   "codemirror_mode": {
    "name": "ipython",
    "version": 3
   },
   "file_extension": ".py",
   "mimetype": "text/x-python",
   "name": "python",
   "nbconvert_exporter": "python",
   "pygments_lexer": "ipython3",
   "version": "3.8.8"
  }
 },
 "nbformat": 4,
 "nbformat_minor": 5
}
