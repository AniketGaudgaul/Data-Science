{
 "cells": [
  {
   "cell_type": "code",
   "execution_count": 1,
   "id": "8ac06011",
   "metadata": {},
   "outputs": [],
   "source": [
    "import numpy as np"
   ]
  },
  {
   "cell_type": "code",
   "execution_count": 7,
   "id": "88d1575e",
   "metadata": {},
   "outputs": [
    {
     "name": "stdout",
     "output_type": "stream",
     "text": [
      "55.5625\n"
     ]
    }
   ],
   "source": [
    "# MEAN\n",
    "\n",
    "speed = [53,52,35,66,45,76,45,65,55,36,75,65,65,46,45,65]\n",
    "\n",
    "mean = np.mean(speed)\n",
    "\n",
    "print(mean)"
   ]
  },
  {
   "cell_type": "code",
   "execution_count": 8,
   "id": "c77f3fba",
   "metadata": {},
   "outputs": [
    {
     "name": "stdout",
     "output_type": "stream",
     "text": [
      "54.0\n"
     ]
    }
   ],
   "source": [
    "# MEDIAN (MIDDLE VALUE AFTER ARRANGING THE VALUES IN ASCENDING ORDER)\n",
    "\n",
    "median = np.median(speed)\n",
    "\n",
    "print(median)"
   ]
  },
  {
   "cell_type": "code",
   "execution_count": 9,
   "id": "a0fb1029",
   "metadata": {},
   "outputs": [
    {
     "name": "stdout",
     "output_type": "stream",
     "text": [
      "ModeResult(mode=array([65]), count=array([4]))\n"
     ]
    }
   ],
   "source": [
    "# MODE (HIGHEST FREQUENCY VALUE)\n",
    "\n",
    "from scipy import stats\n",
    "\n",
    "mode = stats.mode(speed)\n",
    "\n",
    "print(mode)"
   ]
  },
  {
   "cell_type": "code",
   "execution_count": 13,
   "id": "9528ce01",
   "metadata": {},
   "outputs": [
    {
     "name": "stdout",
     "output_type": "stream",
     "text": [
      "3.0\n",
      "5.5\n",
      "7.0\n",
      "4.0\n"
     ]
    }
   ],
   "source": [
    "# QUARTILE \n",
    "\n",
    "# DIVIDES INTO 4 PARTS - in sorted list\n",
    "\n",
    "# 1st part is between lowest value and lowerquartile(it is the middle line bet lowest value and median)\n",
    "# 2nd part is between lowerquartile and median \n",
    "# 3rd part is between median and upperquartile\n",
    "# 4th part is between upperquartile highest value\n",
    "\n",
    "data = [ 1,3,3,4,5,6,6,7,8,8]\n",
    "\n",
    "#FIRST QUARTILE\n",
    "Q1 = np.median(data[:5])\n",
    "print(Q1)\n",
    "\n",
    "#SECOND QUARTILE\n",
    "Q2 = np.median(data)\n",
    "print(Q2)\n",
    "\n",
    "#THIRD QUARTILE\n",
    "Q3 = np.median(data[5:])\n",
    "print(Q3)\n",
    "\n",
    "#INTERQUARTILE RANGE\n",
    "IQR = Q3 - Q1\n",
    "print(IQR)"
   ]
  },
  {
   "cell_type": "code",
   "execution_count": 14,
   "id": "9b16af67",
   "metadata": {},
   "outputs": [
    {
     "name": "stdout",
     "output_type": "stream",
     "text": [
      "12.52980820882746\n"
     ]
    }
   ],
   "source": [
    "# STANDARD DEVIATION (NUMBER WHICH TELLS HOW VALUES ARE SPREAD OVER AVERAGE VALUE)\n",
    "\n",
    "# MORE SD MEANS ITS QUITE SPREAD OUT AND LOW MEANS ITS NEAR THE AVERAGE VALUE\n",
    "\n",
    "x = np.std(speed)\n",
    "\n",
    "print(x)"
   ]
  },
  {
   "cell_type": "code",
   "execution_count": null,
   "id": "b00fb994",
   "metadata": {},
   "outputs": [],
   "source": []
  }
 ],
 "metadata": {
  "kernelspec": {
   "display_name": "Python 3",
   "language": "python",
   "name": "python3"
  },
  "language_info": {
   "codemirror_mode": {
    "name": "ipython",
    "version": 3
   },
   "file_extension": ".py",
   "mimetype": "text/x-python",
   "name": "python",
   "nbconvert_exporter": "python",
   "pygments_lexer": "ipython3",
   "version": "3.8.8"
  }
 },
 "nbformat": 4,
 "nbformat_minor": 5
}
