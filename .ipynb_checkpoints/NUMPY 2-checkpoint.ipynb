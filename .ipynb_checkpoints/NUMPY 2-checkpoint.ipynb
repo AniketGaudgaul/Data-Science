{
 "cells": [
  {
   "cell_type": "code",
   "execution_count": 7,
   "id": "02937c68",
   "metadata": {},
   "outputs": [
    {
     "name": "stdout",
     "output_type": "stream",
     "text": [
      "[[0.9149353  0.81490068 0.79720257]\n",
      " [0.4072575  0.93133623 0.93637455]]\n"
     ]
    }
   ],
   "source": [
    "# GENERATES AN ARRAY OF GIVEN SHAPE WITH RANDOM VALUES BETWEEN 0-1\n",
    "\n",
    "import numpy as np\n",
    "\n",
    "a = np.random.random((2,3))\n",
    "\n",
    "print(a)"
   ]
  },
  {
   "cell_type": "code",
   "execution_count": 8,
   "id": "585459c9",
   "metadata": {},
   "outputs": [
    {
     "name": "stdout",
     "output_type": "stream",
     "text": [
      "[[4 6 1]\n",
      " [9 7 8]]\n"
     ]
    }
   ],
   "source": [
    "# GENERATES AN ARRAY OF GIVEN SHAPE WITH RANDOM VALUES BETWEEN 0-10 AS INTEGERS\n",
    "\n",
    "a = np.random.randint(10, size=(2,3))\n",
    "\n",
    "print(a)"
   ]
  },
  {
   "cell_type": "code",
   "execution_count": 26,
   "id": "3e1d06e4",
   "metadata": {},
   "outputs": [
    {
     "name": "stdout",
     "output_type": "stream",
     "text": [
      "<class 'numpy.ndarray'>\n",
      "[ 0  5 10 15 20 25 30]\n",
      "10\n",
      "[10 15]\n",
      "[ 0 10 20 30]\n"
     ]
    }
   ],
   "source": [
    "# CREATING A SEQUENCE OF NUMBERS IN ARRAY   A-RANGE IS ARRAY RANGE\n",
    "\n",
    "s = np.arange(0 , 31 , 5)   # (beg (inc) , end(excl) , step)\n",
    "\n",
    "print(type(s)) # IT STORES IN AN ARRAY AND NOT LIST\n",
    "\n",
    "print(s)\n",
    "\n",
    "print(s[2])\n",
    "\n",
    "print(s[2:4])\n",
    "\n",
    "print(s[::2])"
   ]
  },
  {
   "cell_type": "code",
   "execution_count": 15,
   "id": "30d09d1f",
   "metadata": {},
   "outputs": [
    {
     "name": "stdout",
     "output_type": "stream",
     "text": [
      "8\n"
     ]
    }
   ],
   "source": [
    "# TAKES A RANDOM NUMBER FROM THE GIVEN LIST\n",
    "\n",
    "from numpy import random\n",
    "\n",
    "x = random.choice([4,8,5,7,2])\n",
    "\n",
    "print(x)"
   ]
  },
  {
   "cell_type": "code",
   "execution_count": 24,
   "id": "25dc5baa",
   "metadata": {},
   "outputs": [
    {
     "name": "stdout",
     "output_type": "stream",
     "text": [
      "[0 1 2 3 4]\n",
      "[ 0  1  2  3  4 10]\n",
      "[ 0  1 50  2  3  4]\n",
      "[0 1 2 3 4]\n"
     ]
    }
   ],
   "source": [
    "arr = np.arange(5)\n",
    "\n",
    "print(arr)\n",
    "\n",
    "arr2 = np.append(arr,10)\n",
    "\n",
    "print(arr2)\n",
    "\n",
    "arr2 = np.insert(arr, 2 , 50)\n",
    "\n",
    "print(arr2)\n",
    "\n",
    "arr2 = np.delete(arr2, 2)\n",
    "\n",
    "print(arr2)"
   ]
  },
  {
   "cell_type": "code",
   "execution_count": 27,
   "id": "6bf42b94",
   "metadata": {},
   "outputs": [
    {
     "name": "stdout",
     "output_type": "stream",
     "text": [
      "[1 2 3 4 5]\n",
      "[32  2  3  4  5]\n"
     ]
    }
   ],
   "source": [
    "z = np.array([1,2,3,4,5])\n",
    "\n",
    "x = z.copy()\n",
    "\n",
    "x[0] = 32\n",
    "\n",
    "print(z)\n",
    "\n",
    "print(x)"
   ]
  },
  {
   "cell_type": "code",
   "execution_count": 34,
   "id": "bed69b1f",
   "metadata": {},
   "outputs": [
    {
     "name": "stdout",
     "output_type": "stream",
     "text": [
      "(2, 3)\n",
      "(3, 2)\n",
      "(6,)\n"
     ]
    }
   ],
   "source": [
    "# RESHAPING THE DIMESNIONS OF AN ARRAY\n",
    "\n",
    "a = np.array([[1,2,3],[4,5,6]])\n",
    "\n",
    "print(a.shape)\n",
    "\n",
    "p = a.reshape(3,2) #no of elements should match with original\n",
    "\n",
    "print(p.shape)\n",
    "\n",
    "p = a.reshape(-1) #1d array\n",
    "\n",
    "print(p.shape)"
   ]
  },
  {
   "cell_type": "code",
   "execution_count": 37,
   "id": "23085f99",
   "metadata": {},
   "outputs": [
    {
     "name": "stdout",
     "output_type": "stream",
     "text": [
      "1\n",
      "2\n",
      "3\n",
      "4\n",
      "5\n",
      "6\n",
      "[1 2 3]\n",
      "[4 5 6]\n",
      "1\n",
      "2\n",
      "3\n",
      "4\n",
      "5\n",
      "6\n"
     ]
    }
   ],
   "source": [
    "for x in p:\n",
    "    print(x , end=\"\")\n",
    "    \n",
    "for x in a:\n",
    "    print(x)\n",
    "    \n",
    "for x in a:\n",
    "    for y in x:\n",
    "        print(y , end=\"\")"
   ]
  },
  {
   "cell_type": "code",
   "execution_count": null,
   "id": "d305dcc7",
   "metadata": {},
   "outputs": [],
   "source": []
  }
 ],
 "metadata": {
  "kernelspec": {
   "display_name": "Python 3",
   "language": "python",
   "name": "python3"
  },
  "language_info": {
   "codemirror_mode": {
    "name": "ipython",
    "version": 3
   },
   "file_extension": ".py",
   "mimetype": "text/x-python",
   "name": "python",
   "nbconvert_exporter": "python",
   "pygments_lexer": "ipython3",
   "version": "3.8.8"
  }
 },
 "nbformat": 4,
 "nbformat_minor": 5
}
