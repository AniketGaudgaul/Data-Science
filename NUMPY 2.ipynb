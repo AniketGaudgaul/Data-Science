{
 "cells": [
  {
   "cell_type": "code",
   "execution_count": 7,
   "id": "83b31533",
   "metadata": {},
   "outputs": [
    {
     "name": "stdout",
     "output_type": "stream",
     "text": [
      "[[0.9149353  0.81490068 0.79720257]\n",
      " [0.4072575  0.93133623 0.93637455]]\n"
     ]
    }
   ],
   "source": [
    "# GENERATES AN ARRAY OF GIVEN SHAPE WITH RANDOM VALUES BETWEEN 0-1\n",
    "\n",
    "import numpy as np\n",
    "\n",
    "a = np.random.random((2,3))\n",
    "\n",
    "print(a)"
   ]
  },
  {
   "cell_type": "code",
   "execution_count": 56,
   "id": "439d271c",
   "metadata": {},
   "outputs": [
    {
     "name": "stdout",
     "output_type": "stream",
     "text": [
      "[[6 4 9]\n",
      " [2 7 4]]\n"
     ]
    }
   ],
   "source": [
    "# GENERATES AN ARRAY OF GIVEN SHAPE WITH RANDOM VALUES BETWEEN 2-10 AS INTEGERS\n",
    "\n",
    "a = np.random.randint(2,10, size=(2,3))\n",
    "\n",
    "print(a)"
   ]
  },
  {
   "cell_type": "code",
   "execution_count": 26,
   "id": "73000753",
   "metadata": {},
   "outputs": [
    {
     "name": "stdout",
     "output_type": "stream",
     "text": [
      "<class 'numpy.ndarray'>\n",
      "[ 0  5 10 15 20 25 30]\n",
      "10\n",
      "[10 15]\n",
      "[ 0 10 20 30]\n"
     ]
    }
   ],
   "source": [
    "# CREATING A SEQUENCE OF NUMBERS IN ARRAY   A-RANGE IS ARRAY RANGE\n",
    "\n",
    "s = np.arange(0 , 31 , 5)   # (beg (inc) , end(excl) , step)\n",
    "\n",
    "print(type(s)) # IT STORES IN AN ARRAY AND NOT LIST\n",
    "\n",
    "print(s)\n",
    "\n",
    "print(s[2])\n",
    "\n",
    "print(s[2:4])\n",
    "\n",
    "print(s[::2])"
   ]
  },
  {
   "cell_type": "code",
   "execution_count": 15,
   "id": "2ee87cc1",
   "metadata": {},
   "outputs": [
    {
     "name": "stdout",
     "output_type": "stream",
     "text": [
      "8\n"
     ]
    }
   ],
   "source": [
    "# TAKES A RANDOM NUMBER FROM THE GIVEN LIST\n",
    "\n",
    "from numpy import random\n",
    "\n",
    "x = random.choice([4,8,5,7,2])\n",
    "\n",
    "print(x)"
   ]
  },
  {
   "cell_type": "code",
   "execution_count": 24,
   "id": "0ffb8118",
   "metadata": {},
   "outputs": [
    {
     "name": "stdout",
     "output_type": "stream",
     "text": [
      "[0 1 2 3 4]\n",
      "[ 0  1  2  3  4 10]\n",
      "[ 0  1 50  2  3  4]\n",
      "[0 1 2 3 4]\n"
     ]
    }
   ],
   "source": [
    "arr = np.arange(5)\n",
    "\n",
    "print(arr)\n",
    "\n",
    "arr2 = np.append(arr,10)\n",
    "\n",
    "print(arr2)\n",
    "\n",
    "arr2 = np.insert(arr, 2 , 50)\n",
    "\n",
    "print(arr2)\n",
    "\n",
    "arr2 = np.delete(arr2, 2)\n",
    "\n",
    "print(arr2)"
   ]
  },
  {
   "cell_type": "code",
   "execution_count": 27,
   "id": "1ecfd7c3",
   "metadata": {},
   "outputs": [
    {
     "name": "stdout",
     "output_type": "stream",
     "text": [
      "[1 2 3 4 5]\n",
      "[32  2  3  4  5]\n"
     ]
    }
   ],
   "source": [
    "z = np.array([1,2,3,4,5])\n",
    "\n",
    "x = z.copy()\n",
    "\n",
    "x[0] = 32\n",
    "\n",
    "print(z)\n",
    "\n",
    "print(x)"
   ]
  },
  {
   "cell_type": "code",
   "execution_count": 34,
   "id": "12b00128",
   "metadata": {},
   "outputs": [
    {
     "name": "stdout",
     "output_type": "stream",
     "text": [
      "(2, 3)\n",
      "(3, 2)\n",
      "(6,)\n"
     ]
    }
   ],
   "source": [
    "# RESHAPING THE DIMESNIONS OF AN ARRAY\n",
    "\n",
    "a = np.array([[1,2,3],[4,5,6]])\n",
    "\n",
    "print(a.shape)\n",
    "\n",
    "p = a.reshape(3,2) #no of elements should match with original\n",
    "\n",
    "print(p.shape)\n",
    "\n",
    "p = a.reshape(-1) #1d array\n",
    "\n",
    "print(p.shape)"
   ]
  },
  {
   "cell_type": "code",
   "execution_count": 39,
   "id": "14122e9b",
   "metadata": {},
   "outputs": [
    {
     "name": "stdout",
     "output_type": "stream",
     "text": [
      "1\n",
      "2\n",
      "3\n",
      "4\n",
      "5\n",
      "6\n",
      "[1 2 3]\n",
      "[4 5 6]\n",
      "123456"
     ]
    }
   ],
   "source": [
    "for x in p:\n",
    "    print(x)\n",
    "    \n",
    "for x in a:\n",
    "    print(x)\n",
    "    \n",
    "for x in a:\n",
    "    for y in x:\n",
    "        print(y , end=\"\")"
   ]
  },
  {
   "cell_type": "code",
   "execution_count": 44,
   "id": "bce07787",
   "metadata": {},
   "outputs": [
    {
     "name": "stdout",
     "output_type": "stream",
     "text": [
      "[ 1  2  4  5  1  5 65]\n"
     ]
    }
   ],
   "source": [
    "arr1 = np.array([1,2,4,5])\n",
    "\n",
    "arr2 = np.array([1,5,65])\n",
    "\n",
    "arr3 = np.concatenate((arr1 , arr2))\n",
    "\n",
    "print(arr3)"
   ]
  },
  {
   "cell_type": "code",
   "execution_count": 46,
   "id": "9caa564e",
   "metadata": {},
   "outputs": [
    {
     "name": "stdout",
     "output_type": "stream",
     "text": [
      "[array([1, 2, 4, 5]), array([ 1,  5, 65])]\n"
     ]
    }
   ],
   "source": [
    "arr4 = np.array_split(arr3,2)\n",
    "\n",
    "print(arr4)"
   ]
  },
  {
   "cell_type": "code",
   "execution_count": 49,
   "id": "326e6d18",
   "metadata": {},
   "outputs": [
    {
     "name": "stdout",
     "output_type": "stream",
     "text": [
      "(array([3], dtype=int64),)\n"
     ]
    }
   ],
   "source": [
    "k = np.where(arr1==5)\n",
    "\n",
    "print(k)"
   ]
  },
  {
   "cell_type": "code",
   "execution_count": 50,
   "id": "58be309a",
   "metadata": {},
   "outputs": [
    {
     "name": "stdout",
     "output_type": "stream",
     "text": [
      "[ 1  3  7 97 98]\n"
     ]
    }
   ],
   "source": [
    "z = np.array([7,97,3,1,98])\n",
    "\n",
    "print(np.sort(z))"
   ]
  },
  {
   "cell_type": "code",
   "execution_count": 52,
   "id": "d5fce4f1",
   "metadata": {},
   "outputs": [
    {
     "name": "stdout",
     "output_type": "stream",
     "text": [
      "[41 24 54]\n"
     ]
    }
   ],
   "source": [
    "# FILTERED ARRAY\n",
    "\n",
    "arr = np.array([41,24,24,54,21])\n",
    "\n",
    "list = [True,True,False,True,False]\n",
    "\n",
    "z = arr[list]\n",
    "\n",
    "print(z)"
   ]
  },
  {
   "cell_type": "code",
   "execution_count": 53,
   "id": "2b76e562",
   "metadata": {},
   "outputs": [
    {
     "name": "stdout",
     "output_type": "stream",
     "text": [
      "[0.         0.66666667 1.33333333 2.         2.66666667 3.33333333\n",
      " 4.         4.66666667 5.33333333 6.        ]\n"
     ]
    }
   ],
   "source": [
    "# GENRETING A SEQUENCE OF NUMBER BETWEEN X AND Y , TOTAL NUMBERS IS Z linspace(x,y,z)\n",
    "\n",
    "g = np.linspace(0,6,10)\n",
    "\n",
    "print(g)  #LINEARLY SPACED NUMBERS"
   ]
  },
  {
   "cell_type": "code",
   "execution_count": 55,
   "id": "deb2ea4d",
   "metadata": {},
   "outputs": [
    {
     "name": "stdout",
     "output_type": "stream",
     "text": [
      "[[1 2 3]\n",
      " [4 5 6]]\n",
      "[1 2 3 4 5 6]\n"
     ]
    }
   ],
   "source": [
    "# CONVERTING 2D OR 3D ARRAY TO 1D ARRAY USING FLATTEN()\n",
    "\n",
    "print(a)\n",
    "\n",
    "fltarr = a.flatten()\n",
    "\n",
    "print(fltarr)"
   ]
  },
  {
   "cell_type": "code",
   "execution_count": 62,
   "id": "63f7e9b1",
   "metadata": {},
   "outputs": [
    {
     "name": "stdout",
     "output_type": "stream",
     "text": [
      "[[ 1  2  3]\n",
      " [ 5 64  6]]\n",
      "<class 'numpy.matrix'>\n",
      "[[ 1  2  3  4]\n",
      " [ 5  6  7  8]\n",
      " [ 9 10 11 12]]\n",
      "<class 'numpy.matrix'>\n"
     ]
    }
   ],
   "source": [
    "# CREATING AN MATRIX\n",
    "\n",
    "mat = np.matrix([[1,2,3] , [5,64,6]])\n",
    "\n",
    "print(mat)\n",
    "\n",
    "print(type(mat))\n",
    "\n",
    "# CREATING AN MATRIX FROM AN ARRAY\n",
    "\n",
    "a = np.matrix(np.arange(1,13).reshape((3,4)))\n",
    "\n",
    "print(a)\n",
    "\n",
    "print(type(a))"
   ]
  },
  {
   "cell_type": "code",
   "execution_count": 64,
   "id": "f167da28",
   "metadata": {},
   "outputs": [
    {
     "name": "stdout",
     "output_type": "stream",
     "text": [
      "ADDITION : \n",
      " [[ 6  8]\n",
      " [10 12]]\n",
      "REGULAR MULT : \n",
      " [[ 5 12]\n",
      " [21 32]]\n",
      "MATRIX MULT : \n",
      " [[19 22]\n",
      " [43 50]]\n"
     ]
    }
   ],
   "source": [
    "# ADDITION , REGULAR MULTIPLICATION AND MATRIX MULTIPLICATION OF ARRAYS\n",
    "\n",
    "x = np.array([[1,2],\n",
    "            [3,4]])\n",
    "y = np.array([[5,6],\n",
    "            [7,8]])\n",
    "\n",
    "# ADDITION ELEMENT WISE\n",
    "\n",
    "print(\"ADDITION : \\n\" , x+y)\n",
    "\n",
    "# REGULAR MULTIPLICATION ELEMENT WISE\n",
    "\n",
    "print(\"REGULAR MULT : \\n\" , x*y)\n",
    "\n",
    "# MATRIX MULTIPLICATION\n",
    "\n",
    "print(\"MATRIX MULT : \\n\" , x.dot(y))"
   ]
  },
  {
   "cell_type": "code",
   "execution_count": null,
   "id": "cbab2088",
   "metadata": {},
   "outputs": [],
   "source": []
  }
 ],
 "metadata": {
  "kernelspec": {
   "display_name": "Python 3",
   "language": "python",
   "name": "python3"
  },
  "language_info": {
   "codemirror_mode": {
    "name": "ipython",
    "version": 3
   },
   "file_extension": ".py",
   "mimetype": "text/x-python",
   "name": "python",
   "nbconvert_exporter": "python",
   "pygments_lexer": "ipython3",
   "version": "3.8.8"
  }
 },
 "nbformat": 4,
 "nbformat_minor": 5
}
