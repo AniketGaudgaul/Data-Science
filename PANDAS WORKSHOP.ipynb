{
 "cells": [
  {
   "cell_type": "code",
   "execution_count": 1,
   "id": "793918ca",
   "metadata": {},
   "outputs": [],
   "source": [
    "import pandas as pd"
   ]
  },
  {
   "cell_type": "code",
   "execution_count": 2,
   "id": "b0d4e0e8",
   "metadata": {},
   "outputs": [
    {
     "name": "stdout",
     "output_type": "stream",
     "text": [
      "0    1\n",
      "1    4\n",
      "2    6\n",
      "dtype: int64\n"
     ]
    }
   ],
   "source": [
    "# CREATING A SERIES \n",
    "\n",
    "a = [1,4,6]\n",
    "\n",
    "series = pd.Series(a)\n",
    "\n",
    "print(series)  # LEFT COLUMN IS INDEXES OR LABEL AND RIGHT COLUMN HAS YOUR DATA"
   ]
  },
  {
   "cell_type": "code",
   "execution_count": 3,
   "id": "37c3908a",
   "metadata": {},
   "outputs": [
    {
     "name": "stdout",
     "output_type": "stream",
     "text": [
      "6\n"
     ]
    }
   ],
   "source": [
    "# ACCESING ELEMENTS IN SERIES\n",
    "\n",
    "print(series[2])"
   ]
  },
  {
   "cell_type": "code",
   "execution_count": 12,
   "id": "1c4cf537",
   "metadata": {},
   "outputs": [
    {
     "name": "stdout",
     "output_type": "stream",
     "text": [
      "1    1\n",
      "2    4\n",
      "3    6\n",
      "dtype: int64\n",
      "Aniket      1\n",
      "Gaudgaul    4\n",
      "lata        6\n",
      "dtype: int64\n",
      "1\n"
     ]
    }
   ],
   "source": [
    "# DEFINING YOUR OWN LABELS\n",
    "\n",
    "series = pd.Series(a,index=[1,2,3])\n",
    "\n",
    "print(series)\n",
    "\n",
    "series = pd.Series(a,index=[\"Aniket\" , \"Gaudgaul\" , \"lata\"])\n",
    "\n",
    "print(series)\n",
    "\n",
    "print(series[\"Aniket\"])"
   ]
  },
  {
   "cell_type": "code",
   "execution_count": 14,
   "id": "6ca9501b",
   "metadata": {},
   "outputs": [
    {
     "name": "stdout",
     "output_type": "stream",
     "text": [
      "{'day1': 420, 'day2': 234, 'day3': 678}\n",
      "day1    420\n",
      "day2    234\n",
      "day3    678\n",
      "dtype: int64\n",
      "day1    420\n",
      "day2    234\n",
      "dtype: int64\n"
     ]
    }
   ],
   "source": [
    "# CREATING A SERIES FROM A DICTIONARY\n",
    "\n",
    "d = {\"day1\" : 420 , \"day2\" : 234, \"day3\" : 678}\n",
    "\n",
    "print(d)\n",
    "\n",
    "series2 = pd.Series(d)\n",
    "\n",
    "print(series2)\n",
    "\n",
    "series2 = pd.Series(d , index=[\"day1\" , \"day2\"])\n",
    "\n",
    "print(series2)"
   ]
  },
  {
   "cell_type": "code",
   "execution_count": 16,
   "id": "3f4919a3",
   "metadata": {},
   "outputs": [
    {
     "name": "stdout",
     "output_type": "stream",
     "text": [
      "   calories  duration\n",
      "0       420        50\n",
      "1       843        34\n",
      "2       583        64\n"
     ]
    }
   ],
   "source": [
    "# loading data into a data framework\n",
    "\n",
    "data={\"calories\" : [420,843,583] , \"duration\" : [50,34,64]}\n",
    "\n",
    "df = pd.DataFrame(data)\n",
    "\n",
    "print(df)"
   ]
  },
  {
   "cell_type": "code",
   "execution_count": 17,
   "id": "0b0b9035",
   "metadata": {},
   "outputs": [
    {
     "name": "stdout",
     "output_type": "stream",
     "text": [
      "calories    420\n",
      "duration     50\n",
      "Name: 0, dtype: int64\n"
     ]
    }
   ],
   "source": [
    "# ACCESSING DATA FRAME\n",
    "\n",
    "print(df.loc[0])   #FIRST ROW\n",
    "\n",
    "print(df.loc[2])   #LAST ROW"
   ]
  },
  {
   "cell_type": "code",
   "execution_count": 23,
   "id": "be99897d",
   "metadata": {},
   "outputs": [
    {
     "name": "stdout",
     "output_type": "stream",
     "text": [
      "      calories  duration\n",
      "day1       420        50\n",
      "day2       843        34\n",
      "day3       583        64\n",
      "calories    843\n",
      "duration     34\n",
      "Name: day2, dtype: int64\n",
      "      calories  duration\n",
      "day2       843        34\n",
      "day3       583        64\n"
     ]
    }
   ],
   "source": [
    "# RENAMING INDEXES IN DATA FRAME\n",
    "\n",
    "df = pd.DataFrame(data , index = [\"day1\" , \"day2\" , \"day3\"])\n",
    "\n",
    "print(df)\n",
    "\n",
    "print(df.loc[\"day2\"])\n",
    "\n",
    "print(df.loc[[\"day2\" , \"day3\"]])"
   ]
  },
  {
   "cell_type": "code",
   "execution_count": 28,
   "id": "9803a9a7",
   "metadata": {},
   "outputs": [
    {
     "name": "stdout",
     "output_type": "stream",
     "text": [
      "    Name       \"Sex\"   \"Age\"   \"Height (in)\"   \"Weight (lbs)\"\n",
      "0   Alex         \"M\"      41              74              170\n",
      "1   Bert         \"M\"      42              68              166\n",
      "2   Carl         \"M\"      32              70              155\n",
      "3   Dave         \"M\"      39              72              167\n",
      "4   Elly         \"F\"      30              66              124\n",
      "5   Fran         \"F\"      33              66              115\n",
      "6   Gwen         \"F\"      26              64              121\n",
      "7   Hank         \"M\"      30              71              158\n",
      "8   Ivan         \"M\"      53              72              175\n",
      "9   Jake         \"M\"      32              69              143\n",
      "10  Kate         \"F\"      47              69              139\n",
      "11  Luke         \"M\"      34              72              163\n",
      "12  Myra         \"F\"      23              62               98\n",
      "13  Neil         \"M\"      36              75              160\n",
      "14  Omar         \"M\"      38              70              145\n",
      "15  Page         \"F\"      31              67              135\n",
      "16  Quin         \"M\"      29              71              176\n",
      "17  Ruth         \"F\"      28              65              131\n"
     ]
    }
   ],
   "source": [
    "# CSV FILE\n",
    "\n",
    "import pandas as dp\n",
    "\n",
    "df = dp.read_csv('C:/Users/LENOVO/Downloads/biostats.csv')  # OR read_json to read json AND use '/' slashes\n",
    "\n",
    "print(df)"
   ]
  },
  {
   "cell_type": "code",
   "execution_count": 31,
   "id": "6435d8f8",
   "metadata": {},
   "outputs": [
    {
     "name": "stdout",
     "output_type": "stream",
     "text": [
      "   Name       \"Sex\"   \"Age\"   \"Height (in)\"   \"Weight (lbs)\"\n",
      "0  Alex         \"M\"      41              74              170\n",
      "1  Bert         \"M\"      42              68              166\n",
      "2  Carl         \"M\"      32              70              155\n",
      "3  Dave         \"M\"      39              72              167\n",
      "4  Elly         \"F\"      30              66              124\n",
      "   Name       \"Sex\"   \"Age\"   \"Height (in)\"   \"Weight (lbs)\"\n",
      "0  Alex         \"M\"      41              74              170\n",
      "1  Bert         \"M\"      42              68              166\n",
      "2  Carl         \"M\"      32              70              155\n",
      "3  Dave         \"M\"      39              72              167\n",
      "4  Elly         \"F\"      30              66              124\n",
      "5  Fran         \"F\"      33              66              115\n",
      "6  Gwen         \"F\"      26              64              121\n",
      "7  Hank         \"M\"      30              71              158\n",
      "8  Ivan         \"M\"      53              72              175\n",
      "9  Jake         \"M\"      32              69              143\n"
     ]
    }
   ],
   "source": [
    "# HEAD READS ONLY TOP 5 DEFAULT\n",
    "\n",
    "print(df.head()) \n",
    "\n",
    "print(df.head(10))"
   ]
  },
  {
   "cell_type": "code",
   "execution_count": 32,
   "id": "bd950280",
   "metadata": {},
   "outputs": [
    {
     "name": "stdout",
     "output_type": "stream",
     "text": [
      "    Name       \"Sex\"   \"Age\"   \"Height (in)\"   \"Weight (lbs)\"\n",
      "13  Neil         \"M\"      36              75              160\n",
      "14  Omar         \"M\"      38              70              145\n",
      "15  Page         \"F\"      31              67              135\n",
      "16  Quin         \"M\"      29              71              176\n",
      "17  Ruth         \"F\"      28              65              131\n",
      "    Name       \"Sex\"   \"Age\"   \"Height (in)\"   \"Weight (lbs)\"\n",
      "8   Ivan         \"M\"      53              72              175\n",
      "9   Jake         \"M\"      32              69              143\n",
      "10  Kate         \"F\"      47              69              139\n",
      "11  Luke         \"M\"      34              72              163\n",
      "12  Myra         \"F\"      23              62               98\n",
      "13  Neil         \"M\"      36              75              160\n",
      "14  Omar         \"M\"      38              70              145\n",
      "15  Page         \"F\"      31              67              135\n",
      "16  Quin         \"M\"      29              71              176\n",
      "17  Ruth         \"F\"      28              65              131\n"
     ]
    }
   ],
   "source": [
    "# TAIL\n",
    "\n",
    "print(df.tail())\n",
    "\n",
    "print(df.tail(10))"
   ]
  },
  {
   "cell_type": "code",
   "execution_count": 34,
   "id": "32499dd5",
   "metadata": {},
   "outputs": [
    {
     "name": "stdout",
     "output_type": "stream",
     "text": [
      "<class 'pandas.core.frame.DataFrame'>\n",
      "RangeIndex: 18 entries, 0 to 17\n",
      "Data columns (total 5 columns):\n",
      " #   Column           Non-Null Count  Dtype \n",
      "---  ------           --------------  ----- \n",
      " 0   Name             18 non-null     object\n",
      " 1        \"Sex\"       18 non-null     object\n",
      " 2    \"Age\"           18 non-null     int64 \n",
      " 3    \"Height (in)\"   18 non-null     int64 \n",
      " 4    \"Weight (lbs)\"  18 non-null     int64 \n",
      "dtypes: int64(3), object(2)\n",
      "memory usage: 848.0+ bytes\n",
      "None\n"
     ]
    }
   ],
   "source": [
    "# GIVES SOME INFORMATION OF DATA\n",
    "\n",
    "print(df.info())"
   ]
  },
  {
   "cell_type": "code",
   "execution_count": 35,
   "id": "b058caee",
   "metadata": {},
   "outputs": [
    {
     "ename": "FileNotFoundError",
     "evalue": "[Errno 2] No such file or directory: '#'",
     "output_type": "error",
     "traceback": [
      "\u001b[1;31m---------------------------------------------------------------------------\u001b[0m",
      "\u001b[1;31mFileNotFoundError\u001b[0m                         Traceback (most recent call last)",
      "\u001b[1;32m<ipython-input-35-5406d4421591>\u001b[0m in \u001b[0;36m<module>\u001b[1;34m\u001b[0m\n\u001b[0;32m      3\u001b[0m \u001b[1;32mimport\u001b[0m \u001b[0mpandas\u001b[0m \u001b[1;32mas\u001b[0m \u001b[0mdp\u001b[0m\u001b[1;33m\u001b[0m\u001b[1;33m\u001b[0m\u001b[0m\n\u001b[0;32m      4\u001b[0m \u001b[1;33m\u001b[0m\u001b[0m\n\u001b[1;32m----> 5\u001b[1;33m \u001b[0mdf\u001b[0m \u001b[1;33m=\u001b[0m \u001b[0mdp\u001b[0m\u001b[1;33m.\u001b[0m\u001b[0mread_csv\u001b[0m\u001b[1;33m(\u001b[0m\u001b[1;34m'#'\u001b[0m\u001b[1;33m)\u001b[0m\u001b[1;33m\u001b[0m\u001b[1;33m\u001b[0m\u001b[0m\n\u001b[0m\u001b[0;32m      6\u001b[0m \u001b[1;33m\u001b[0m\u001b[0m\n\u001b[0;32m      7\u001b[0m \u001b[0mprint\u001b[0m\u001b[1;33m(\u001b[0m\u001b[0mdf\u001b[0m\u001b[1;33m)\u001b[0m\u001b[1;33m\u001b[0m\u001b[1;33m\u001b[0m\u001b[0m\n",
      "\u001b[1;32mD:\\Anaconda\\lib\\site-packages\\pandas\\io\\parsers.py\u001b[0m in \u001b[0;36mread_csv\u001b[1;34m(filepath_or_buffer, sep, delimiter, header, names, index_col, usecols, squeeze, prefix, mangle_dupe_cols, dtype, engine, converters, true_values, false_values, skipinitialspace, skiprows, skipfooter, nrows, na_values, keep_default_na, na_filter, verbose, skip_blank_lines, parse_dates, infer_datetime_format, keep_date_col, date_parser, dayfirst, cache_dates, iterator, chunksize, compression, thousands, decimal, lineterminator, quotechar, quoting, doublequote, escapechar, comment, encoding, dialect, error_bad_lines, warn_bad_lines, delim_whitespace, low_memory, memory_map, float_precision, storage_options)\u001b[0m\n\u001b[0;32m    608\u001b[0m     \u001b[0mkwds\u001b[0m\u001b[1;33m.\u001b[0m\u001b[0mupdate\u001b[0m\u001b[1;33m(\u001b[0m\u001b[0mkwds_defaults\u001b[0m\u001b[1;33m)\u001b[0m\u001b[1;33m\u001b[0m\u001b[1;33m\u001b[0m\u001b[0m\n\u001b[0;32m    609\u001b[0m \u001b[1;33m\u001b[0m\u001b[0m\n\u001b[1;32m--> 610\u001b[1;33m     \u001b[1;32mreturn\u001b[0m \u001b[0m_read\u001b[0m\u001b[1;33m(\u001b[0m\u001b[0mfilepath_or_buffer\u001b[0m\u001b[1;33m,\u001b[0m \u001b[0mkwds\u001b[0m\u001b[1;33m)\u001b[0m\u001b[1;33m\u001b[0m\u001b[1;33m\u001b[0m\u001b[0m\n\u001b[0m\u001b[0;32m    611\u001b[0m \u001b[1;33m\u001b[0m\u001b[0m\n\u001b[0;32m    612\u001b[0m \u001b[1;33m\u001b[0m\u001b[0m\n",
      "\u001b[1;32mD:\\Anaconda\\lib\\site-packages\\pandas\\io\\parsers.py\u001b[0m in \u001b[0;36m_read\u001b[1;34m(filepath_or_buffer, kwds)\u001b[0m\n\u001b[0;32m    460\u001b[0m \u001b[1;33m\u001b[0m\u001b[0m\n\u001b[0;32m    461\u001b[0m     \u001b[1;31m# Create the parser.\u001b[0m\u001b[1;33m\u001b[0m\u001b[1;33m\u001b[0m\u001b[1;33m\u001b[0m\u001b[0m\n\u001b[1;32m--> 462\u001b[1;33m     \u001b[0mparser\u001b[0m \u001b[1;33m=\u001b[0m \u001b[0mTextFileReader\u001b[0m\u001b[1;33m(\u001b[0m\u001b[0mfilepath_or_buffer\u001b[0m\u001b[1;33m,\u001b[0m \u001b[1;33m**\u001b[0m\u001b[0mkwds\u001b[0m\u001b[1;33m)\u001b[0m\u001b[1;33m\u001b[0m\u001b[1;33m\u001b[0m\u001b[0m\n\u001b[0m\u001b[0;32m    463\u001b[0m \u001b[1;33m\u001b[0m\u001b[0m\n\u001b[0;32m    464\u001b[0m     \u001b[1;32mif\u001b[0m \u001b[0mchunksize\u001b[0m \u001b[1;32mor\u001b[0m \u001b[0miterator\u001b[0m\u001b[1;33m:\u001b[0m\u001b[1;33m\u001b[0m\u001b[1;33m\u001b[0m\u001b[0m\n",
      "\u001b[1;32mD:\\Anaconda\\lib\\site-packages\\pandas\\io\\parsers.py\u001b[0m in \u001b[0;36m__init__\u001b[1;34m(self, f, engine, **kwds)\u001b[0m\n\u001b[0;32m    817\u001b[0m             \u001b[0mself\u001b[0m\u001b[1;33m.\u001b[0m\u001b[0moptions\u001b[0m\u001b[1;33m[\u001b[0m\u001b[1;34m\"has_index_names\"\u001b[0m\u001b[1;33m]\u001b[0m \u001b[1;33m=\u001b[0m \u001b[0mkwds\u001b[0m\u001b[1;33m[\u001b[0m\u001b[1;34m\"has_index_names\"\u001b[0m\u001b[1;33m]\u001b[0m\u001b[1;33m\u001b[0m\u001b[1;33m\u001b[0m\u001b[0m\n\u001b[0;32m    818\u001b[0m \u001b[1;33m\u001b[0m\u001b[0m\n\u001b[1;32m--> 819\u001b[1;33m         \u001b[0mself\u001b[0m\u001b[1;33m.\u001b[0m\u001b[0m_engine\u001b[0m \u001b[1;33m=\u001b[0m \u001b[0mself\u001b[0m\u001b[1;33m.\u001b[0m\u001b[0m_make_engine\u001b[0m\u001b[1;33m(\u001b[0m\u001b[0mself\u001b[0m\u001b[1;33m.\u001b[0m\u001b[0mengine\u001b[0m\u001b[1;33m)\u001b[0m\u001b[1;33m\u001b[0m\u001b[1;33m\u001b[0m\u001b[0m\n\u001b[0m\u001b[0;32m    820\u001b[0m \u001b[1;33m\u001b[0m\u001b[0m\n\u001b[0;32m    821\u001b[0m     \u001b[1;32mdef\u001b[0m \u001b[0mclose\u001b[0m\u001b[1;33m(\u001b[0m\u001b[0mself\u001b[0m\u001b[1;33m)\u001b[0m\u001b[1;33m:\u001b[0m\u001b[1;33m\u001b[0m\u001b[1;33m\u001b[0m\u001b[0m\n",
      "\u001b[1;32mD:\\Anaconda\\lib\\site-packages\\pandas\\io\\parsers.py\u001b[0m in \u001b[0;36m_make_engine\u001b[1;34m(self, engine)\u001b[0m\n\u001b[0;32m   1048\u001b[0m             )\n\u001b[0;32m   1049\u001b[0m         \u001b[1;31m# error: Too many arguments for \"ParserBase\"\u001b[0m\u001b[1;33m\u001b[0m\u001b[1;33m\u001b[0m\u001b[1;33m\u001b[0m\u001b[0m\n\u001b[1;32m-> 1050\u001b[1;33m         \u001b[1;32mreturn\u001b[0m \u001b[0mmapping\u001b[0m\u001b[1;33m[\u001b[0m\u001b[0mengine\u001b[0m\u001b[1;33m]\u001b[0m\u001b[1;33m(\u001b[0m\u001b[0mself\u001b[0m\u001b[1;33m.\u001b[0m\u001b[0mf\u001b[0m\u001b[1;33m,\u001b[0m \u001b[1;33m**\u001b[0m\u001b[0mself\u001b[0m\u001b[1;33m.\u001b[0m\u001b[0moptions\u001b[0m\u001b[1;33m)\u001b[0m  \u001b[1;31m# type: ignore[call-arg]\u001b[0m\u001b[1;33m\u001b[0m\u001b[1;33m\u001b[0m\u001b[0m\n\u001b[0m\u001b[0;32m   1051\u001b[0m \u001b[1;33m\u001b[0m\u001b[0m\n\u001b[0;32m   1052\u001b[0m     \u001b[1;32mdef\u001b[0m \u001b[0m_failover_to_python\u001b[0m\u001b[1;33m(\u001b[0m\u001b[0mself\u001b[0m\u001b[1;33m)\u001b[0m\u001b[1;33m:\u001b[0m\u001b[1;33m\u001b[0m\u001b[1;33m\u001b[0m\u001b[0m\n",
      "\u001b[1;32mD:\\Anaconda\\lib\\site-packages\\pandas\\io\\parsers.py\u001b[0m in \u001b[0;36m__init__\u001b[1;34m(self, src, **kwds)\u001b[0m\n\u001b[0;32m   1865\u001b[0m \u001b[1;33m\u001b[0m\u001b[0m\n\u001b[0;32m   1866\u001b[0m         \u001b[1;31m# open handles\u001b[0m\u001b[1;33m\u001b[0m\u001b[1;33m\u001b[0m\u001b[1;33m\u001b[0m\u001b[0m\n\u001b[1;32m-> 1867\u001b[1;33m         \u001b[0mself\u001b[0m\u001b[1;33m.\u001b[0m\u001b[0m_open_handles\u001b[0m\u001b[1;33m(\u001b[0m\u001b[0msrc\u001b[0m\u001b[1;33m,\u001b[0m \u001b[0mkwds\u001b[0m\u001b[1;33m)\u001b[0m\u001b[1;33m\u001b[0m\u001b[1;33m\u001b[0m\u001b[0m\n\u001b[0m\u001b[0;32m   1868\u001b[0m         \u001b[1;32massert\u001b[0m \u001b[0mself\u001b[0m\u001b[1;33m.\u001b[0m\u001b[0mhandles\u001b[0m \u001b[1;32mis\u001b[0m \u001b[1;32mnot\u001b[0m \u001b[1;32mNone\u001b[0m\u001b[1;33m\u001b[0m\u001b[1;33m\u001b[0m\u001b[0m\n\u001b[0;32m   1869\u001b[0m         \u001b[1;32mfor\u001b[0m \u001b[0mkey\u001b[0m \u001b[1;32min\u001b[0m \u001b[1;33m(\u001b[0m\u001b[1;34m\"storage_options\"\u001b[0m\u001b[1;33m,\u001b[0m \u001b[1;34m\"encoding\"\u001b[0m\u001b[1;33m,\u001b[0m \u001b[1;34m\"memory_map\"\u001b[0m\u001b[1;33m,\u001b[0m \u001b[1;34m\"compression\"\u001b[0m\u001b[1;33m)\u001b[0m\u001b[1;33m:\u001b[0m\u001b[1;33m\u001b[0m\u001b[1;33m\u001b[0m\u001b[0m\n",
      "\u001b[1;32mD:\\Anaconda\\lib\\site-packages\\pandas\\io\\parsers.py\u001b[0m in \u001b[0;36m_open_handles\u001b[1;34m(self, src, kwds)\u001b[0m\n\u001b[0;32m   1360\u001b[0m         \u001b[0mLet\u001b[0m \u001b[0mthe\u001b[0m \u001b[0mreaders\u001b[0m \u001b[0mopen\u001b[0m \u001b[0mIOHanldes\u001b[0m \u001b[0mafter\u001b[0m \u001b[0mthey\u001b[0m \u001b[0mare\u001b[0m \u001b[0mdone\u001b[0m \u001b[1;32mwith\u001b[0m \u001b[0mtheir\u001b[0m \u001b[0mpotential\u001b[0m \u001b[0mraises\u001b[0m\u001b[1;33m.\u001b[0m\u001b[1;33m\u001b[0m\u001b[1;33m\u001b[0m\u001b[0m\n\u001b[0;32m   1361\u001b[0m         \"\"\"\n\u001b[1;32m-> 1362\u001b[1;33m         self.handles = get_handle(\n\u001b[0m\u001b[0;32m   1363\u001b[0m             \u001b[0msrc\u001b[0m\u001b[1;33m,\u001b[0m\u001b[1;33m\u001b[0m\u001b[1;33m\u001b[0m\u001b[0m\n\u001b[0;32m   1364\u001b[0m             \u001b[1;34m\"r\"\u001b[0m\u001b[1;33m,\u001b[0m\u001b[1;33m\u001b[0m\u001b[1;33m\u001b[0m\u001b[0m\n",
      "\u001b[1;32mD:\\Anaconda\\lib\\site-packages\\pandas\\io\\common.py\u001b[0m in \u001b[0;36mget_handle\u001b[1;34m(path_or_buf, mode, encoding, compression, memory_map, is_text, errors, storage_options)\u001b[0m\n\u001b[0;32m    640\u001b[0m                 \u001b[0merrors\u001b[0m \u001b[1;33m=\u001b[0m \u001b[1;34m\"replace\"\u001b[0m\u001b[1;33m\u001b[0m\u001b[1;33m\u001b[0m\u001b[0m\n\u001b[0;32m    641\u001b[0m             \u001b[1;31m# Encoding\u001b[0m\u001b[1;33m\u001b[0m\u001b[1;33m\u001b[0m\u001b[1;33m\u001b[0m\u001b[0m\n\u001b[1;32m--> 642\u001b[1;33m             handle = open(\n\u001b[0m\u001b[0;32m    643\u001b[0m                 \u001b[0mhandle\u001b[0m\u001b[1;33m,\u001b[0m\u001b[1;33m\u001b[0m\u001b[1;33m\u001b[0m\u001b[0m\n\u001b[0;32m    644\u001b[0m                 \u001b[0mioargs\u001b[0m\u001b[1;33m.\u001b[0m\u001b[0mmode\u001b[0m\u001b[1;33m,\u001b[0m\u001b[1;33m\u001b[0m\u001b[1;33m\u001b[0m\u001b[0m\n",
      "\u001b[1;31mFileNotFoundError\u001b[0m: [Errno 2] No such file or directory: '#'"
     ]
    }
   ],
   "source": [
    "# DELETING DIRTY DATA WHICH INCLUDES DATA NOT IN CORRECT FORMAT, EMPTY SPACES IE NAN \n",
    "\n",
    "import pandas as dp\n",
    "\n",
    "df = dp.read_csv('#')  \n",
    "\n",
    "print(df)\n",
    "\n",
    "# REMOVING ROWS WITH EMPTY VALUE \n",
    "\n",
    "new_df = df.dropna()    # TO MODIFY THE ORIGINAL FILE ALSO USE dropna(inplace = True)\n",
    "\n",
    "print(new_df)"
   ]
  },
  {
   "cell_type": "code",
   "execution_count": null,
   "id": "272a76ec",
   "metadata": {},
   "outputs": [],
   "source": [
    "# REPLACING EMPTY VALUES VALUES YOU WANT\n",
    "\n",
    "import pandas as dp\n",
    "\n",
    "df1 = dp.read_csv('#')\n",
    "\n",
    "df1.fillna(xyz , inplace = True)\n",
    "\n",
    "print(df1)"
   ]
  },
  {
   "cell_type": "code",
   "execution_count": null,
   "id": "8d9139b7",
   "metadata": {},
   "outputs": [],
   "source": [
    "# REPLACING EMPTY VALUES VALUES YOU WANT ONLY THE COLUMN YOU WANT\n",
    "\n",
    "import pandas as dp\n",
    "\n",
    "df1 = dp.read_csv('#')\n",
    "\n",
    "df1[\"Height\"].fillna(\"50`\" , inplace = True) # REPLACES ONLY IN COLUMN NAME Height\n",
    "\n",
    "print(df1)"
   ]
  },
  {
   "cell_type": "code",
   "execution_count": null,
   "id": "c7d7641c",
   "metadata": {},
   "outputs": [],
   "source": [
    "# REPLACING THE EMPTY SPACES BY MEAN OR MODE OF THE DATA\n",
    "\n",
    "import pandas as dp\n",
    "\n",
    "df2= dp.read_csv('#')\n",
    "\n",
    "print(df2)\n",
    "\n",
    "x = df2[\"Height\"].meean()\n",
    "\n",
    "print(x)\n",
    "\n",
    "df2[\"Height\"].fillna(x,inplace=True)\n",
    "\n",
    "print(df2)"
   ]
  }
 ],
 "metadata": {
  "kernelspec": {
   "display_name": "Python 3",
   "language": "python",
   "name": "python3"
  },
  "language_info": {
   "codemirror_mode": {
    "name": "ipython",
    "version": 3
   },
   "file_extension": ".py",
   "mimetype": "text/x-python",
   "name": "python",
   "nbconvert_exporter": "python",
   "pygments_lexer": "ipython3",
   "version": "3.8.8"
  }
 },
 "nbformat": 4,
 "nbformat_minor": 5
}
